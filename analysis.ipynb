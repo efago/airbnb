{
 "cells": [
  {
   "cell_type": "code",
   "execution_count": 1,
   "id": "d4982da2",
   "metadata": {},
   "outputs": [],
   "source": [
    "import numpy as np\n",
    "import pandas as pd\n",
    "import matplotlib.pyplot as plt\n",
    "import seaborn as sns\n",
    "\n",
    "import ast\n",
    "import re\n",
    "import urllib\n",
    "import scipy.stats as stats\n",
    "\n",
    "import warnings\n",
    "warnings.simplefilter(action='ignore', category=FutureWarning)\n",
    "\n",
    "%matplotlib inline\n",
    "pd.set_option('display.max_columns', 100)\n",
    "pd.set_option('display.max_rows', 100)"
   ]
  },
  {
   "cell_type": "code",
   "execution_count": 2,
   "id": "078a379e",
   "metadata": {},
   "outputs": [],
   "source": [
    "calendar = pd.read_csv('data/calendar.csv.gz')\n",
    "reviews = pd.read_csv('data/reviews.csv.gz')\n",
    "listings = pd.read_csv('data/listings.csv.gz')"
   ]
  },
  {
   "cell_type": "code",
   "execution_count": 3,
   "id": "3adc23e1",
   "metadata": {
    "collapsed": true
   },
   "outputs": [
    {
     "name": "stdout",
     "output_type": "stream",
     "text": [
      "<class 'pandas.core.frame.DataFrame'>\n",
      "RangeIndex: 27935194 entries, 0 to 27935193\n",
      "Data columns (total 7 columns):\n",
      " #   Column          Dtype  \n",
      "---  ------          -----  \n",
      " 0   listing_id      int64  \n",
      " 1   date            object \n",
      " 2   available       object \n",
      " 3   price           object \n",
      " 4   adjusted_price  object \n",
      " 5   minimum_nights  float64\n",
      " 6   maximum_nights  float64\n",
      "dtypes: float64(2), int64(1), object(4)\n",
      "memory usage: 1.5+ GB\n"
     ]
    }
   ],
   "source": [
    "calendar.info()"
   ]
  },
  {
   "cell_type": "code",
   "execution_count": 4,
   "id": "b7e51031",
   "metadata": {
    "collapsed": true
   },
   "outputs": [
    {
     "name": "stdout",
     "output_type": "stream",
     "text": [
      "<class 'pandas.core.frame.DataFrame'>\n",
      "RangeIndex: 76534 entries, 0 to 76533\n",
      "Data columns (total 74 columns):\n",
      " #   Column                                        Non-Null Count  Dtype  \n",
      "---  ------                                        --------------  -----  \n",
      " 0   id                                            76534 non-null  int64  \n",
      " 1   listing_url                                   76534 non-null  object \n",
      " 2   scrape_id                                     76534 non-null  int64  \n",
      " 3   last_scraped                                  76534 non-null  object \n",
      " 4   name                                          76510 non-null  object \n",
      " 5   description                                   73372 non-null  object \n",
      " 6   neighborhood_overview                         46750 non-null  object \n",
      " 7   picture_url                                   76534 non-null  object \n",
      " 8   host_id                                       76534 non-null  int64  \n",
      " 9   host_url                                      76534 non-null  object \n",
      " 10  host_name                                     76488 non-null  object \n",
      " 11  host_since                                    76488 non-null  object \n",
      " 12  host_location                                 76307 non-null  object \n",
      " 13  host_about                                    42430 non-null  object \n",
      " 14  host_response_time                            33313 non-null  object \n",
      " 15  host_response_rate                            33313 non-null  object \n",
      " 16  host_acceptance_rate                          41831 non-null  object \n",
      " 17  host_is_superhost                             76488 non-null  object \n",
      " 18  host_thumbnail_url                            76488 non-null  object \n",
      " 19  host_picture_url                              76488 non-null  object \n",
      " 20  host_neighbourhood                            57940 non-null  object \n",
      " 21  host_listings_count                           76488 non-null  float64\n",
      " 22  host_total_listings_count                     76488 non-null  float64\n",
      " 23  host_verifications                            76534 non-null  object \n",
      " 24  host_has_profile_pic                          76488 non-null  object \n",
      " 25  host_identity_verified                        76488 non-null  object \n",
      " 26  neighbourhood                                 46751 non-null  object \n",
      " 27  neighbourhood_cleansed                        76534 non-null  object \n",
      " 28  neighbourhood_group_cleansed                  0 non-null      float64\n",
      " 29  latitude                                      76534 non-null  float64\n",
      " 30  longitude                                     76534 non-null  float64\n",
      " 31  property_type                                 76534 non-null  object \n",
      " 32  room_type                                     76534 non-null  object \n",
      " 33  accommodates                                  76534 non-null  int64  \n",
      " 34  bathrooms                                     0 non-null      float64\n",
      " 35  bathrooms_text                                76353 non-null  object \n",
      " 36  bedrooms                                      71696 non-null  float64\n",
      " 37  beds                                          75315 non-null  float64\n",
      " 38  amenities                                     76534 non-null  object \n",
      " 39  price                                         76534 non-null  object \n",
      " 40  minimum_nights                                76534 non-null  int64  \n",
      " 41  maximum_nights                                76534 non-null  int64  \n",
      " 42  minimum_minimum_nights                        76531 non-null  float64\n",
      " 43  maximum_minimum_nights                        76531 non-null  float64\n",
      " 44  minimum_maximum_nights                        76531 non-null  float64\n",
      " 45  maximum_maximum_nights                        76531 non-null  float64\n",
      " 46  minimum_nights_avg_ntm                        76531 non-null  float64\n",
      " 47  maximum_nights_avg_ntm                        76531 non-null  float64\n",
      " 48  calendar_updated                              0 non-null      float64\n",
      " 49  has_availability                              76534 non-null  object \n",
      " 50  availability_30                               76534 non-null  int64  \n",
      " 51  availability_60                               76534 non-null  int64  \n",
      " 52  availability_90                               76534 non-null  int64  \n",
      " 53  availability_365                              76534 non-null  int64  \n",
      " 54  calendar_last_scraped                         76534 non-null  object \n",
      " 55  number_of_reviews                             76534 non-null  int64  \n",
      " 56  number_of_reviews_ltm                         76534 non-null  int64  \n",
      " 57  number_of_reviews_l30d                        76534 non-null  int64  \n",
      " 58  first_review                                  54340 non-null  object \n",
      " 59  last_review                                   54340 non-null  object \n",
      " 60  review_scores_rating                          52597 non-null  float64\n",
      " 61  review_scores_accuracy                        52535 non-null  float64\n",
      " 62  review_scores_cleanliness                     52544 non-null  float64\n",
      " 63  review_scores_checkin                         52488 non-null  float64\n",
      " 64  review_scores_communication                   52537 non-null  float64\n",
      " 65  review_scores_location                        52489 non-null  float64\n",
      " 66  review_scores_value                           52488 non-null  float64\n",
      " 67  license                                       0 non-null      float64\n",
      " 68  instant_bookable                              76534 non-null  object \n",
      " 69  calculated_host_listings_count                76534 non-null  int64  \n",
      " 70  calculated_host_listings_count_entire_homes   76534 non-null  int64  \n",
      " 71  calculated_host_listings_count_private_rooms  76534 non-null  int64  \n",
      " 72  calculated_host_listings_count_shared_rooms   76534 non-null  int64  \n",
      " 73  reviews_per_month                             54340 non-null  float64\n",
      "dtypes: float64(24), int64(17), object(33)\n",
      "memory usage: 43.2+ MB\n"
     ]
    }
   ],
   "source": [
    "listings.info()"
   ]
  },
  {
   "cell_type": "code",
   "execution_count": 5,
   "id": "a2b055a5",
   "metadata": {
    "collapsed": true
   },
   "outputs": [
    {
     "name": "stdout",
     "output_type": "stream",
     "text": [
      "<class 'pandas.core.frame.DataFrame'>\n",
      "RangeIndex: 1163886 entries, 0 to 1163885\n",
      "Data columns (total 6 columns):\n",
      " #   Column         Non-Null Count    Dtype \n",
      "---  ------         --------------    ----- \n",
      " 0   listing_id     1163886 non-null  int64 \n",
      " 1   id             1163886 non-null  int64 \n",
      " 2   date           1163886 non-null  object\n",
      " 3   reviewer_id    1163886 non-null  int64 \n",
      " 4   reviewer_name  1163885 non-null  object\n",
      " 5   comments       1163374 non-null  object\n",
      "dtypes: int64(3), object(3)\n",
      "memory usage: 53.3+ MB\n"
     ]
    }
   ],
   "source": [
    "reviews.info()"
   ]
  },
  {
   "cell_type": "code",
   "execution_count": 6,
   "id": "3487305e",
   "metadata": {},
   "outputs": [],
   "source": [
    "reviews_places = pd.merge(reviews, listings[['id', 'price', 'latitude', 'longitude', 'neighbourhood_cleansed']], left_on='listing_id', right_on='id')"
   ]
  },
  {
   "cell_type": "code",
   "execution_count": 7,
   "id": "0d239566",
   "metadata": {},
   "outputs": [],
   "source": [
    "reviews_places.date = pd.to_datetime(reviews_places.date)\n",
    "reviews_places.price = reviews_places.price.str.replace(r'[,|$]', '').astype('float')"
   ]
  },
  {
   "cell_type": "markdown",
   "id": "84330d5e",
   "metadata": {},
   "source": [
    ">The frequency of reviews is a good indicator of Airbnb activities, the plunge of such activities in 2020 by around 80% could be directly attributed to Covid-19."
   ]
  },
  {
   "cell_type": "code",
   "execution_count": 8,
   "id": "7b5541b4",
   "metadata": {},
   "outputs": [
    {
     "data": {
      "image/png": "[encoded data removed]",
      "text/plain": [
       "<Figure size 432x288 with 1 Axes>"
      ]
     },
     "metadata": {
      "needs_background": "light"
     },
     "output_type": "display_data"
    }
   ],
   "source": [
    "reviews_places.date.dt.year.sort_values().value_counts(sort=False).plot(kind='bar')\n",
    "plt.title('Number of reviews per year');"
   ]
  },
  {
   "cell_type": "code",
   "execution_count": 9,
   "id": "7619c8a4",
   "metadata": {},
   "outputs": [
    {
     "data": {
      "text/plain": [
       "0.19710144927536233"
      ]
     },
     "execution_count": 9,
     "metadata": {},
     "output_type": "execute_result"
    }
   ],
   "source": [
    "reviews_frequency_2019 = len(reviews_places[reviews_places.date == '2019'])\n",
    "reviews_frequency_2020 = len(reviews_places[reviews_places.date == '2020'])\n",
    "(reviews_frequency_2020 - reviews_frequency_2019) / reviews_frequency_2019"
   ]
  },
  {
   "cell_type": "code",
   "execution_count": 10,
   "id": "c63644e1",
   "metadata": {},
   "outputs": [],
   "source": [
    "reviews_2019 = reviews_places[reviews_places.date == '2019']\n",
    "reviews_2019_unique = reviews_2019.loc[~reviews_2019.listing_id.duplicated()]\n",
    "reviews_2020 = reviews_places[reviews_places.date == '2020']\n",
    "reviews_2020_unique = reviews_2020.loc[~reviews_places.listing_id.duplicated()]"
   ]
  },
  {
   "cell_type": "code",
   "execution_count": 97,
   "id": "bfbaf493",
   "metadata": {},
   "outputs": [
    {
     "data": {
      "image/png": "[encoded data removed]",
      "text/plain": [
       "<Figure size 1080x288 with 2 Axes>"
      ]
     },
     "metadata": {
      "needs_background": "light"
     },
     "output_type": "display_data"
    }
   ],
   "source": [
    "fig = plt.figure(figsize=(15, 4))\n",
    "ax1 = fig.add_subplot(121)\n",
    "sns.scatterplot(ax=ax1, x='longitude', y='latitude', data=reviews_2019_unique, hue='neighbourhood_cleansed')\n",
    "ax2 = fig.add_subplot(122)\n",
    "sns.scatterplot(ax=ax2, x='longitude', y='latitude', data=reviews_2020_unique, hue='neighbourhood_cleansed')\n",
    "ax1.legend_.remove()\n",
    "ax2.legend_.remove()"
   ]
  },
  {
   "cell_type": "markdown",
   "id": "d4a4954c",
   "metadata": {},
   "source": [
    "---"
   ]
  },
  {
   "cell_type": "markdown",
   "id": "c64919b0",
   "metadata": {},
   "source": [
    "### Analysis on demographics of reviewers by language"
   ]
  },
  {
   "cell_type": "markdown",
   "id": "fe086a2a",
   "metadata": {},
   "source": [
    ">Here a one-tailed test is performed on people who left a review that includes atleast one Chinese character. This test is conducted on the more expensive listings where price exceeds $100."
   ]
  },
  {
   "cell_type": "code",
   "execution_count": 12,
   "id": "04a0ddac",
   "metadata": {},
   "outputs": [],
   "source": [
    "reviews_places['comments_chinese'] = reviews_places.comments.map(lambda x: bool(re.search(u'[\\u4e00-\\u9fff]', str(x))))"
   ]
  },
  {
   "cell_type": "code",
   "execution_count": 13,
   "id": "9af62c0f",
   "metadata": {},
   "outputs": [
    {
     "data": {
      "text/plain": [
       "count     3122.000000\n",
       "mean       199.648302\n",
       "std        417.849254\n",
       "min        101.000000\n",
       "25%        124.000000\n",
       "50%        150.000000\n",
       "75%        205.000000\n",
       "max      15971.000000\n",
       "Name: price, dtype: float64"
      ]
     },
     "execution_count": 13,
     "metadata": {},
     "output_type": "execute_result"
    }
   ],
   "source": [
    "chinese = reviews_places[(reviews_places.price > 100) & reviews_places.comments_chinese].price.describe()\n",
    "chinese"
   ]
  },
  {
   "cell_type": "code",
   "execution_count": 14,
   "id": "c40240ac",
   "metadata": {},
   "outputs": [
    {
     "data": {
      "text/plain": [
       "count    275571.000000\n",
       "mean        213.251275\n",
       "std         722.707733\n",
       "min         101.000000\n",
       "25%         120.000000\n",
       "50%         147.000000\n",
       "75%         199.000000\n",
       "max       17746.000000\n",
       "Name: price, dtype: float64"
      ]
     },
     "execution_count": 14,
     "metadata": {},
     "output_type": "execute_result"
    }
   ],
   "source": [
    "non_chinese = reviews_places[(reviews_places.price >100) & ~reviews_places.comments_chinese].price.describe()\n",
    "non_chinese"
   ]
  },
  {
   "cell_type": "markdown",
   "id": "0ab55bfd",
   "metadata": {},
   "source": [
    ">Null hypothesis: a person who left a review with at least one Chinese character wouldn't on average spend less\n",
    "Alternative hypothesis: a person who left a review with at least one Chinese character spends less on average"
   ]
  },
  {
   "cell_type": "code",
   "execution_count": 15,
   "id": "e86e6ae3",
   "metadata": {},
   "outputs": [
    {
     "data": {
      "text/plain": [
       "12.507422895076553"
      ]
     },
     "execution_count": 15,
     "metadata": {},
     "output_type": "execute_result"
    }
   ],
   "source": [
    "deviation_95 = stats.norm.ppf(0.95) * np.sqrt(chinese['std']**2 / chinese['count'] + non_chinese['std']**2 / non_chinese['count'])\n",
    "deviation_95"
   ]
  },
  {
   "cell_type": "code",
   "execution_count": 16,
   "id": "f2d23f5b",
   "metadata": {},
   "outputs": [
    {
     "data": {
      "text/plain": [
       "True"
      ]
     },
     "execution_count": 16,
     "metadata": {},
     "output_type": "execute_result"
    }
   ],
   "source": [
    "chinese['mean'] + deviation_95 < non_chinese['mean']"
   ]
  },
  {
   "cell_type": "markdown",
   "id": "b7df276d",
   "metadata": {},
   "source": [
    ">Hence the null hypothesis is rejected with 95% confidence"
   ]
  },
  {
   "cell_type": "code",
   "execution_count": 17,
   "id": "db1fbf12",
   "metadata": {},
   "outputs": [],
   "source": [
    "reviews_places['comment_english'] = reviews_places.comments.map(lambda x: str(x).isascii())"
   ]
  },
  {
   "cell_type": "markdown",
   "id": "2a706396",
   "metadata": {},
   "source": [
    ">A similar hypothesis test is performed on reviews which are not exclusively written with English (ASCII) characters"
   ]
  },
  {
   "cell_type": "code",
   "execution_count": 18,
   "id": "d940f316",
   "metadata": {},
   "outputs": [
    {
     "data": {
      "text/plain": [
       "count    244313.000000\n",
       "mean         94.577133\n",
       "std         410.175137\n",
       "min           8.000000\n",
       "25%          40.000000\n",
       "50%          64.000000\n",
       "75%         100.000000\n",
       "max       17746.000000\n",
       "Name: price, dtype: float64"
      ]
     },
     "execution_count": 18,
     "metadata": {},
     "output_type": "execute_result"
    }
   ],
   "source": [
    "non_english = reviews_places[~reviews_places.comment_english].price.describe()\n",
    "non_english"
   ]
  },
  {
   "cell_type": "code",
   "execution_count": 19,
   "id": "2d3cf15b",
   "metadata": {},
   "outputs": [
    {
     "data": {
      "text/plain": [
       "count    919573.000000\n",
       "mean         91.372755\n",
       "std         344.625716\n",
       "min           8.000000\n",
       "25%          39.000000\n",
       "50%          61.000000\n",
       "75%         100.000000\n",
       "max       17746.000000\n",
       "Name: price, dtype: float64"
      ]
     },
     "execution_count": 19,
     "metadata": {},
     "output_type": "execute_result"
    }
   ],
   "source": [
    "english = reviews_places[reviews_places.comment_english].price.describe()\n",
    "english"
   ]
  },
  {
   "cell_type": "markdown",
   "id": "48af8878",
   "metadata": {},
   "source": [
    ">Null hypothesis: people who leave a review that includes a non-English character have mean spending equal to others\n",
    ">Alternative hypothesis: people who leave a review with non-English character(s) have different spending mean compared to others"
   ]
  },
  {
   "cell_type": "code",
   "execution_count": 20,
   "id": "eac6851d",
   "metadata": {},
   "outputs": [
    {
     "data": {
      "text/plain": [
       "1.7724340551496316"
      ]
     },
     "execution_count": 20,
     "metadata": {},
     "output_type": "execute_result"
    }
   ],
   "source": [
    "deviation_95 = stats.norm.ppf(0.975) * np.sqrt(english['std']**2 / english['count'] + non_english['std']**2 / non_english['count'])\n",
    "deviation_95"
   ]
  },
  {
   "cell_type": "code",
   "execution_count": 21,
   "id": "1f9edcf3",
   "metadata": {},
   "outputs": [
    {
     "data": {
      "text/plain": [
       "True"
      ]
     },
     "execution_count": 21,
     "metadata": {},
     "output_type": "execute_result"
    }
   ],
   "source": [
    "(english['mean'] + deviation_95) < non_english['mean']"
   ]
  },
  {
   "cell_type": "markdown",
   "id": "9f6cb4b5",
   "metadata": {},
   "source": [
    ">Hence the null hypothesis has been rejected with 95% confidence"
   ]
  },
  {
   "cell_type": "markdown",
   "id": "45b53df0",
   "metadata": {},
   "source": [
    "---"
   ]
  },
  {
   "cell_type": "markdown",
   "id": "bbcccfad",
   "metadata": {},
   "source": [
    "### Analysis on comments length with price"
   ]
  },
  {
   "cell_type": "markdown",
   "id": "4e6f717e",
   "metadata": {},
   "source": [
    ">Here ANOVA is conducted if the relationship between the price bracket of spending and length of reviews."
   ]
  },
  {
   "cell_type": "code",
   "execution_count": 22,
   "id": "408c1dae",
   "metadata": {},
   "outputs": [],
   "source": [
    "reviews_places['bracket'] = pd.qcut(reviews_places.price, 4)\n",
    "reviews_places['comments_length'] = reviews_places.comments.str.len()"
   ]
  },
  {
   "cell_type": "code",
   "execution_count": 23,
   "id": "5725b568",
   "metadata": {},
   "outputs": [
    {
     "data": {
      "text/plain": [
       "bracket\n",
       "(7.999, 40.0]       225.756599\n",
       "(40.0, 62.0]        253.568784\n",
       "(62.0, 100.0]       269.946506\n",
       "(100.0, 17746.0]    285.324138\n",
       "Name: comments_length, dtype: float64"
      ]
     },
     "execution_count": 23,
     "metadata": {},
     "output_type": "execute_result"
    }
   ],
   "source": [
    "reviews_places.groupby('bracket').comments_length.mean()"
   ]
  },
  {
   "cell_type": "markdown",
   "id": "8346dfde",
   "metadata": {},
   "source": [
    ">Here a hypothesis test is performed against a null hypothesis which states that the mean of length of comments doesn't depend on a person's spending price bracket."
   ]
  },
  {
   "cell_type": "code",
   "execution_count": 24,
   "id": "7faa7ebc",
   "metadata": {
    "collapsed": true
   },
   "outputs": [
    {
     "data": {
      "text/html": [
       "<div>\n",
       "<style scoped>\n",
       "    .dataframe tbody tr th:only-of-type {\n",
       "        vertical-align: middle;\n",
       "    }\n",
       "\n",
       "    .dataframe tbody tr th {\n",
       "        vertical-align: top;\n",
       "    }\n",
       "\n",
       "    .dataframe thead th {\n",
       "        text-align: right;\n",
       "    }\n",
       "</style>\n",
       "<table border=\"1\" class=\"dataframe\">\n",
       "  <thead>\n",
       "    <tr style=\"text-align: right;\">\n",
       "      <th></th>\n",
       "      <th>listing_id</th>\n",
       "      <th>id_x</th>\n",
       "      <th>date</th>\n",
       "      <th>reviewer_id</th>\n",
       "      <th>reviewer_name</th>\n",
       "      <th>comments</th>\n",
       "      <th>id_y</th>\n",
       "      <th>price</th>\n",
       "      <th>latitude</th>\n",
       "      <th>longitude</th>\n",
       "      <th>neighbourhood_cleansed</th>\n",
       "      <th>comments_chinese</th>\n",
       "      <th>comment_english</th>\n",
       "      <th>bracket</th>\n",
       "      <th>comments_length</th>\n",
       "      <th>bracket_mean</th>\n",
       "      <th>ssw_row</th>\n",
       "    </tr>\n",
       "  </thead>\n",
       "  <tbody>\n",
       "    <tr>\n",
       "      <th>0</th>\n",
       "      <td>13913</td>\n",
       "      <td>80770</td>\n",
       "      <td>2010-08-18</td>\n",
       "      <td>177109</td>\n",
       "      <td>Michael</td>\n",
       "      <td>My girlfriend and I hadn't known Alina before ...</td>\n",
       "      <td>13913</td>\n",
       "      <td>40.0</td>\n",
       "      <td>51.56802</td>\n",
       "      <td>-0.11121</td>\n",
       "      <td>Islington</td>\n",
       "      <td>False</td>\n",
       "      <td>True</td>\n",
       "      <td>(7.999, 40.0]</td>\n",
       "      <td>873.0</td>\n",
       "      <td>225.756599</td>\n",
       "      <td>418924.019916</td>\n",
       "    </tr>\n",
       "    <tr>\n",
       "      <th>1</th>\n",
       "      <td>13913</td>\n",
       "      <td>367568</td>\n",
       "      <td>2011-07-11</td>\n",
       "      <td>19835707</td>\n",
       "      <td>Mathias</td>\n",
       "      <td>Alina was a really good host. The flat is clea...</td>\n",
       "      <td>13913</td>\n",
       "      <td>40.0</td>\n",
       "      <td>51.56802</td>\n",
       "      <td>-0.11121</td>\n",
       "      <td>Islington</td>\n",
       "      <td>False</td>\n",
       "      <td>True</td>\n",
       "      <td>(7.999, 40.0]</td>\n",
       "      <td>172.0</td>\n",
       "      <td>225.756599</td>\n",
       "      <td>2889.771954</td>\n",
       "    </tr>\n",
       "    <tr>\n",
       "      <th>2</th>\n",
       "      <td>13913</td>\n",
       "      <td>529579</td>\n",
       "      <td>2011-09-13</td>\n",
       "      <td>1110304</td>\n",
       "      <td>Kristin</td>\n",
       "      <td>Alina is an amazing host. She made me feel rig...</td>\n",
       "      <td>13913</td>\n",
       "      <td>40.0</td>\n",
       "      <td>51.56802</td>\n",
       "      <td>-0.11121</td>\n",
       "      <td>Islington</td>\n",
       "      <td>False</td>\n",
       "      <td>True</td>\n",
       "      <td>(7.999, 40.0]</td>\n",
       "      <td>350.0</td>\n",
       "      <td>225.756599</td>\n",
       "      <td>15436.422649</td>\n",
       "    </tr>\n",
       "    <tr>\n",
       "      <th>3</th>\n",
       "      <td>13913</td>\n",
       "      <td>595481</td>\n",
       "      <td>2011-10-03</td>\n",
       "      <td>1216358</td>\n",
       "      <td>Camilla</td>\n",
       "      <td>Alina's place is so nice, the room is big and ...</td>\n",
       "      <td>13913</td>\n",
       "      <td>40.0</td>\n",
       "      <td>51.56802</td>\n",
       "      <td>-0.11121</td>\n",
       "      <td>Islington</td>\n",
       "      <td>False</td>\n",
       "      <td>True</td>\n",
       "      <td>(7.999, 40.0]</td>\n",
       "      <td>409.0</td>\n",
       "      <td>225.756599</td>\n",
       "      <td>33578.143947</td>\n",
       "    </tr>\n",
       "    <tr>\n",
       "      <th>4</th>\n",
       "      <td>13913</td>\n",
       "      <td>612947</td>\n",
       "      <td>2011-10-09</td>\n",
       "      <td>490840</td>\n",
       "      <td>Jorik</td>\n",
       "      <td>Nice location in Islington area, good for shor...</td>\n",
       "      <td>13913</td>\n",
       "      <td>40.0</td>\n",
       "      <td>51.56802</td>\n",
       "      <td>-0.11121</td>\n",
       "      <td>Islington</td>\n",
       "      <td>False</td>\n",
       "      <td>True</td>\n",
       "      <td>(7.999, 40.0]</td>\n",
       "      <td>98.0</td>\n",
       "      <td>225.756599</td>\n",
       "      <td>16321.748632</td>\n",
       "    </tr>\n",
       "  </tbody>\n",
       "</table>\n",
       "</div>"
      ],
      "text/plain": [
       "   listing_id    id_x       date  reviewer_id reviewer_name  \\\n",
       "0       13913   80770 2010-08-18       177109       Michael   \n",
       "1       13913  367568 2011-07-11     19835707       Mathias   \n",
       "2       13913  529579 2011-09-13      1110304       Kristin   \n",
       "3       13913  595481 2011-10-03      1216358       Camilla   \n",
       "4       13913  612947 2011-10-09       490840         Jorik   \n",
       "\n",
       "                                            comments   id_y  price  latitude  \\\n",
       "0  My girlfriend and I hadn't known Alina before ...  13913   40.0  51.56802   \n",
       "1  Alina was a really good host. The flat is clea...  13913   40.0  51.56802   \n",
       "2  Alina is an amazing host. She made me feel rig...  13913   40.0  51.56802   \n",
       "3  Alina's place is so nice, the room is big and ...  13913   40.0  51.56802   \n",
       "4  Nice location in Islington area, good for shor...  13913   40.0  51.56802   \n",
       "\n",
       "   longitude neighbourhood_cleansed  comments_chinese  comment_english  \\\n",
       "0   -0.11121              Islington             False             True   \n",
       "1   -0.11121              Islington             False             True   \n",
       "2   -0.11121              Islington             False             True   \n",
       "3   -0.11121              Islington             False             True   \n",
       "4   -0.11121              Islington             False             True   \n",
       "\n",
       "         bracket  comments_length  bracket_mean        ssw_row  \n",
       "0  (7.999, 40.0]            873.0    225.756599  418924.019916  \n",
       "1  (7.999, 40.0]            172.0    225.756599    2889.771954  \n",
       "2  (7.999, 40.0]            350.0    225.756599   15436.422649  \n",
       "3  (7.999, 40.0]            409.0    225.756599   33578.143947  \n",
       "4  (7.999, 40.0]             98.0    225.756599   16321.748632  "
      ]
     },
     "execution_count": 24,
     "metadata": {},
     "output_type": "execute_result"
    }
   ],
   "source": [
    "reviews_places['bracket_mean'] = reviews_places.groupby('bracket').comments_length.transform('mean')\n",
    "reviews_places['ssw_row'] = (reviews_places.comments_length - reviews_places.bracket_mean)**2\n",
    "reviews_places.head()"
   ]
  },
  {
   "cell_type": "code",
   "execution_count": 25,
   "id": "828d50c4",
   "metadata": {},
   "outputs": [],
   "source": [
    "grand_mean = reviews_places.groupby('bracket').comments_length.mean().mean()\n",
    "ssb = np.sum((reviews_places.groupby('bracket').comments_length.mean().values - grand_mean)**2 * reviews_places.groupby('bracket').size().values)\n",
    "ssw = reviews_places.ssw_row.sum()"
   ]
  },
  {
   "cell_type": "code",
   "execution_count": 26,
   "id": "efdcda2a",
   "metadata": {},
   "outputs": [
    {
     "data": {
      "text/plain": [
       "3104.008683699421"
      ]
     },
     "execution_count": 26,
     "metadata": {},
     "output_type": "execute_result"
    }
   ],
   "source": [
    "f_statistic = (ssb / (4 - 1)) / (ssw / (len(reviews_places) - 4))\n",
    "f_statistic"
   ]
  },
  {
   "cell_type": "code",
   "execution_count": 27,
   "id": "36380e93",
   "metadata": {},
   "outputs": [
    {
     "data": {
      "text/plain": [
       "3.7816390496993186"
      ]
     },
     "execution_count": 27,
     "metadata": {},
     "output_type": "execute_result"
    }
   ],
   "source": [
    "stats.f.ppf(0.99, dfn=3, dfd=len(reviews_places)-4)"
   ]
  },
  {
   "cell_type": "markdown",
   "id": "371d35a7",
   "metadata": {},
   "source": [
    ">Since the calculated f-statistic is much greater than the critical f-value, the length of comments is dependent on spending price bracket with 99% confidence."
   ]
  },
  {
   "cell_type": "code",
   "execution_count": null,
   "id": "3423e920",
   "metadata": {},
   "outputs": [],
   "source": []
  },
  {
   "cell_type": "code",
   "execution_count": null,
   "id": "b3515542",
   "metadata": {},
   "outputs": [],
   "source": []
  },
  {
   "cell_type": "markdown",
   "id": "ebf6df50",
   "metadata": {},
   "source": [
    ">In the calendar Dataframe convert the date column to datetime object and \n",
    "prices into float"
   ]
  },
  {
   "cell_type": "code",
   "execution_count": 28,
   "id": "f577c0af",
   "metadata": {},
   "outputs": [],
   "source": [
    "calendar.date = pd.to_datetime(calendar.date)\n",
    "calendar.price = calendar.price.str.replace(r'[,|$]', '').astype('float')\n",
    "calendar.adjusted_price = calendar.adjusted_price.str.replace(r'[,|$]', '').astype('float')"
   ]
  },
  {
   "cell_type": "code",
   "execution_count": 29,
   "id": "297984ee",
   "metadata": {
    "collapsed": true
   },
   "outputs": [
    {
     "data": {
      "text/html": [
       "<div>\n",
       "<style scoped>\n",
       "    .dataframe tbody tr th:only-of-type {\n",
       "        vertical-align: middle;\n",
       "    }\n",
       "\n",
       "    .dataframe tbody tr th {\n",
       "        vertical-align: top;\n",
       "    }\n",
       "\n",
       "    .dataframe thead th {\n",
       "        text-align: right;\n",
       "    }\n",
       "</style>\n",
       "<table border=\"1\" class=\"dataframe\">\n",
       "  <thead>\n",
       "    <tr style=\"text-align: right;\">\n",
       "      <th></th>\n",
       "      <th>listing_id</th>\n",
       "      <th>price</th>\n",
       "      <th>adjusted_price</th>\n",
       "      <th>minimum_nights</th>\n",
       "      <th>maximum_nights</th>\n",
       "    </tr>\n",
       "  </thead>\n",
       "  <tbody>\n",
       "    <tr>\n",
       "      <th>count</th>\n",
       "      <td>2.793519e+07</td>\n",
       "      <td>2.793468e+07</td>\n",
       "      <td>2.793468e+07</td>\n",
       "      <td>2.793276e+07</td>\n",
       "      <td>2.793276e+07</td>\n",
       "    </tr>\n",
       "    <tr>\n",
       "      <th>mean</th>\n",
       "      <td>2.608478e+07</td>\n",
       "      <td>1.264199e+02</td>\n",
       "      <td>1.261539e+02</td>\n",
       "      <td>6.142188e+00</td>\n",
       "      <td>8.679454e+05</td>\n",
       "    </tr>\n",
       "    <tr>\n",
       "      <th>std</th>\n",
       "      <td>1.353189e+07</td>\n",
       "      <td>3.524370e+02</td>\n",
       "      <td>3.517111e+02</td>\n",
       "      <td>2.741382e+01</td>\n",
       "      <td>4.283477e+07</td>\n",
       "    </tr>\n",
       "    <tr>\n",
       "      <th>min</th>\n",
       "      <td>1.391300e+04</td>\n",
       "      <td>0.000000e+00</td>\n",
       "      <td>0.000000e+00</td>\n",
       "      <td>1.000000e+00</td>\n",
       "      <td>1.000000e+00</td>\n",
       "    </tr>\n",
       "    <tr>\n",
       "      <th>25%</th>\n",
       "      <td>1.526315e+07</td>\n",
       "      <td>4.500000e+01</td>\n",
       "      <td>4.400000e+01</td>\n",
       "      <td>1.000000e+00</td>\n",
       "      <td>9.000000e+01</td>\n",
       "    </tr>\n",
       "    <tr>\n",
       "      <th>50%</th>\n",
       "      <td>2.624739e+07</td>\n",
       "      <td>7.900000e+01</td>\n",
       "      <td>7.900000e+01</td>\n",
       "      <td>2.000000e+00</td>\n",
       "      <td>1.125000e+03</td>\n",
       "    </tr>\n",
       "    <tr>\n",
       "      <th>75%</th>\n",
       "      <td>3.833855e+07</td>\n",
       "      <td>1.340000e+02</td>\n",
       "      <td>1.330000e+02</td>\n",
       "      <td>4.000000e+00</td>\n",
       "      <td>1.125000e+03</td>\n",
       "    </tr>\n",
       "    <tr>\n",
       "      <th>max</th>\n",
       "      <td>4.810299e+07</td>\n",
       "      <td>1.774600e+04</td>\n",
       "      <td>1.774600e+04</td>\n",
       "      <td>1.125000e+03</td>\n",
       "      <td>2.147484e+09</td>\n",
       "    </tr>\n",
       "  </tbody>\n",
       "</table>\n",
       "</div>"
      ],
      "text/plain": [
       "         listing_id         price  adjusted_price  minimum_nights  \\\n",
       "count  2.793519e+07  2.793468e+07    2.793468e+07    2.793276e+07   \n",
       "mean   2.608478e+07  1.264199e+02    1.261539e+02    6.142188e+00   \n",
       "std    1.353189e+07  3.524370e+02    3.517111e+02    2.741382e+01   \n",
       "min    1.391300e+04  0.000000e+00    0.000000e+00    1.000000e+00   \n",
       "25%    1.526315e+07  4.500000e+01    4.400000e+01    1.000000e+00   \n",
       "50%    2.624739e+07  7.900000e+01    7.900000e+01    2.000000e+00   \n",
       "75%    3.833855e+07  1.340000e+02    1.330000e+02    4.000000e+00   \n",
       "max    4.810299e+07  1.774600e+04    1.774600e+04    1.125000e+03   \n",
       "\n",
       "       maximum_nights  \n",
       "count    2.793276e+07  \n",
       "mean     8.679454e+05  \n",
       "std      4.283477e+07  \n",
       "min      1.000000e+00  \n",
       "25%      9.000000e+01  \n",
       "50%      1.125000e+03  \n",
       "75%      1.125000e+03  \n",
       "max      2.147484e+09  "
      ]
     },
     "execution_count": 29,
     "metadata": {},
     "output_type": "execute_result"
    }
   ],
   "source": [
    "calendar.describe()"
   ]
  },
  {
   "cell_type": "markdown",
   "id": "386fb582",
   "metadata": {},
   "source": [
    ">difference between price and adjusted price columns are zero for\n",
    "95% of values"
   ]
  },
  {
   "cell_type": "code",
   "execution_count": 30,
   "id": "f2c04fd7",
   "metadata": {
    "collapsed": true
   },
   "outputs": [
    {
     "data": {
      "text/plain": [
       "count    2.793468e+07\n",
       "mean     2.659666e-01\n",
       "std      7.071372e+00\n",
       "min     -9.750000e+02\n",
       "25%      0.000000e+00\n",
       "50%      0.000000e+00\n",
       "75%      0.000000e+00\n",
       "max      1.775000e+03\n",
       "dtype: float64"
      ]
     },
     "execution_count": 30,
     "metadata": {},
     "output_type": "execute_result"
    }
   ],
   "source": [
    "(calendar.price - calendar.adjusted_price).describe()"
   ]
  },
  {
   "cell_type": "code",
   "execution_count": 31,
   "id": "188168a7",
   "metadata": {},
   "outputs": [
    {
     "data": {
      "text/plain": [
       "0.025    0.0\n",
       "0.975    0.0\n",
       "dtype: float64"
      ]
     },
     "execution_count": 31,
     "metadata": {},
     "output_type": "execute_result"
    }
   ],
   "source": [
    "(calendar.price - calendar.adjusted_price).quantile([0.025, 0.975])"
   ]
  },
  {
   "cell_type": "markdown",
   "id": "81f657e5",
   "metadata": {},
   "source": [
    ">check for duplicates and null values in calendar and then fill null values"
   ]
  },
  {
   "cell_type": "code",
   "execution_count": 32,
   "id": "e9101d2b",
   "metadata": {},
   "outputs": [
    {
     "data": {
      "text/plain": [
       "0"
      ]
     },
     "execution_count": 32,
     "metadata": {},
     "output_type": "execute_result"
    }
   ],
   "source": [
    "calendar.duplicated().sum()"
   ]
  },
  {
   "cell_type": "code",
   "execution_count": 33,
   "id": "efbee7cb",
   "metadata": {
    "collapsed": true
   },
   "outputs": [
    {
     "data": {
      "text/plain": [
       "listing_id           0\n",
       "date                 0\n",
       "available            0\n",
       "price              513\n",
       "adjusted_price     513\n",
       "minimum_nights    2432\n",
       "maximum_nights    2432\n",
       "dtype: int64"
      ]
     },
     "execution_count": 33,
     "metadata": {},
     "output_type": "execute_result"
    }
   ],
   "source": [
    "calendar.isnull().sum()"
   ]
  },
  {
   "cell_type": "code",
   "execution_count": 34,
   "id": "9d7dadb3",
   "metadata": {},
   "outputs": [
    {
     "data": {
      "text/plain": [
       "array([ 3323834, 21484800, 42100579])"
      ]
     },
     "execution_count": 34,
     "metadata": {},
     "output_type": "execute_result"
    }
   ],
   "source": [
    "calendar_null_price_listings = calendar[calendar.price.isnull()].listing_id.unique()\n",
    "calendar_null_price_listings"
   ]
  },
  {
   "cell_type": "code",
   "execution_count": 35,
   "id": "97f00875",
   "metadata": {
    "collapsed": true
   },
   "outputs": [
    {
     "data": {
      "text/plain": [
       "listing_id\n",
       "3323834     171\n",
       "21484800    171\n",
       "42100579    171\n",
       "dtype: int64"
      ]
     },
     "execution_count": 35,
     "metadata": {},
     "output_type": "execute_result"
    }
   ],
   "source": [
    "calendar_null_price = calendar[calendar.price.isnull() & calendar.listing_id.isin(calendar_null_price_listings)]\n",
    "calendar_null_price.groupby('listing_id').size()"
   ]
  },
  {
   "cell_type": "code",
   "execution_count": 36,
   "id": "b8b48b93",
   "metadata": {
    "collapsed": true
   },
   "outputs": [
    {
     "data": {
      "text/plain": [
       "listing_id\n",
       "3323834     194\n",
       "21484800    194\n",
       "42100579    194\n",
       "dtype: int64"
      ]
     },
     "execution_count": 36,
     "metadata": {},
     "output_type": "execute_result"
    }
   ],
   "source": [
    "calendar_notnull_price = calendar[calendar.price.notnull() & calendar.listing_id.isin(calendar_null_price_listings)]\n",
    "calendar_notnull_price.groupby('listing_id').size()"
   ]
  },
  {
   "cell_type": "code",
   "execution_count": 37,
   "id": "1b622cdc",
   "metadata": {
    "collapsed": true
   },
   "outputs": [
    {
     "data": {
      "text/plain": [
       "listing_id\n",
       "3323834     50.000000\n",
       "21484800    52.835052\n",
       "42100579    70.103093\n",
       "Name: adjusted_price, dtype: float64"
      ]
     },
     "execution_count": 37,
     "metadata": {},
     "output_type": "execute_result"
    }
   ],
   "source": [
    "calendar_notnull_price.groupby('listing_id').adjusted_price.mean()"
   ]
  },
  {
   "cell_type": "code",
   "execution_count": 38,
   "id": "4903a830",
   "metadata": {
    "collapsed": true
   },
   "outputs": [
    {
     "data": {
      "text/plain": [
       "listing_id\n",
       "3323834     0.000000\n",
       "21484800    4.518655\n",
       "42100579    0.304867\n",
       "Name: adjusted_price, dtype: float64"
      ]
     },
     "execution_count": 38,
     "metadata": {},
     "output_type": "execute_result"
    }
   ],
   "source": [
    "calendar_notnull_price.groupby('listing_id').adjusted_price.std()"
   ]
  },
  {
   "cell_type": "code",
   "execution_count": 39,
   "id": "620264c0",
   "metadata": {},
   "outputs": [
    {
     "data": {
      "text/plain": [
       "listing_id        0\n",
       "date              0\n",
       "available         0\n",
       "price             0\n",
       "adjusted_price    0\n",
       "minimum_nights    0\n",
       "maximum_nights    0\n",
       "dtype: int64"
      ]
     },
     "execution_count": 39,
     "metadata": {},
     "output_type": "execute_result"
    }
   ],
   "source": [
    "calendar = calendar.groupby('listing_id').apply(lambda g: g.fillna(g.mean()))\n",
    "calendar.isnull().sum()"
   ]
  },
  {
   "cell_type": "markdown",
   "id": "4f32bf44",
   "metadata": {},
   "source": [
    ">merge calendar and listings dataframes to obtain location features"
   ]
  },
  {
   "cell_type": "code",
   "execution_count": 40,
   "id": "a36b5230",
   "metadata": {},
   "outputs": [],
   "source": [
    "calendar_places = pd.merge(calendar, listings[['id', 'latitude', 'longitude', 'neighbourhood_cleansed']], left_on='listing_id', right_on='id')"
   ]
  },
  {
   "cell_type": "code",
   "execution_count": 41,
   "id": "7ccdd7b1",
   "metadata": {
    "collapsed": true
   },
   "outputs": [
    {
     "data": {
      "text/html": [
       "<div>\n",
       "<style scoped>\n",
       "    .dataframe tbody tr th:only-of-type {\n",
       "        vertical-align: middle;\n",
       "    }\n",
       "\n",
       "    .dataframe tbody tr th {\n",
       "        vertical-align: top;\n",
       "    }\n",
       "\n",
       "    .dataframe thead th {\n",
       "        text-align: right;\n",
       "    }\n",
       "</style>\n",
       "<table border=\"1\" class=\"dataframe\">\n",
       "  <thead>\n",
       "    <tr style=\"text-align: right;\">\n",
       "      <th></th>\n",
       "      <th>listing_id</th>\n",
       "      <th>date</th>\n",
       "      <th>available</th>\n",
       "      <th>price</th>\n",
       "      <th>adjusted_price</th>\n",
       "      <th>minimum_nights</th>\n",
       "      <th>maximum_nights</th>\n",
       "      <th>id</th>\n",
       "      <th>latitude</th>\n",
       "      <th>longitude</th>\n",
       "      <th>neighbourhood_cleansed</th>\n",
       "    </tr>\n",
       "  </thead>\n",
       "  <tbody>\n",
       "    <tr>\n",
       "      <th>0</th>\n",
       "      <td>100326</td>\n",
       "      <td>2021-02-13</td>\n",
       "      <td>f</td>\n",
       "      <td>33.0</td>\n",
       "      <td>33.0</td>\n",
       "      <td>2.0</td>\n",
       "      <td>10.0</td>\n",
       "      <td>100326</td>\n",
       "      <td>51.56485</td>\n",
       "      <td>-0.05612</td>\n",
       "      <td>Hackney</td>\n",
       "    </tr>\n",
       "    <tr>\n",
       "      <th>1</th>\n",
       "      <td>100326</td>\n",
       "      <td>2021-02-14</td>\n",
       "      <td>f</td>\n",
       "      <td>33.0</td>\n",
       "      <td>33.0</td>\n",
       "      <td>2.0</td>\n",
       "      <td>10.0</td>\n",
       "      <td>100326</td>\n",
       "      <td>51.56485</td>\n",
       "      <td>-0.05612</td>\n",
       "      <td>Hackney</td>\n",
       "    </tr>\n",
       "    <tr>\n",
       "      <th>2</th>\n",
       "      <td>100326</td>\n",
       "      <td>2021-02-15</td>\n",
       "      <td>f</td>\n",
       "      <td>33.0</td>\n",
       "      <td>33.0</td>\n",
       "      <td>2.0</td>\n",
       "      <td>10.0</td>\n",
       "      <td>100326</td>\n",
       "      <td>51.56485</td>\n",
       "      <td>-0.05612</td>\n",
       "      <td>Hackney</td>\n",
       "    </tr>\n",
       "    <tr>\n",
       "      <th>3</th>\n",
       "      <td>100326</td>\n",
       "      <td>2021-02-16</td>\n",
       "      <td>f</td>\n",
       "      <td>33.0</td>\n",
       "      <td>33.0</td>\n",
       "      <td>2.0</td>\n",
       "      <td>10.0</td>\n",
       "      <td>100326</td>\n",
       "      <td>51.56485</td>\n",
       "      <td>-0.05612</td>\n",
       "      <td>Hackney</td>\n",
       "    </tr>\n",
       "    <tr>\n",
       "      <th>4</th>\n",
       "      <td>100326</td>\n",
       "      <td>2021-02-17</td>\n",
       "      <td>f</td>\n",
       "      <td>33.0</td>\n",
       "      <td>33.0</td>\n",
       "      <td>2.0</td>\n",
       "      <td>10.0</td>\n",
       "      <td>100326</td>\n",
       "      <td>51.56485</td>\n",
       "      <td>-0.05612</td>\n",
       "      <td>Hackney</td>\n",
       "    </tr>\n",
       "  </tbody>\n",
       "</table>\n",
       "</div>"
      ],
      "text/plain": [
       "   listing_id       date available  price  adjusted_price  minimum_nights  \\\n",
       "0      100326 2021-02-13         f   33.0            33.0             2.0   \n",
       "1      100326 2021-02-14         f   33.0            33.0             2.0   \n",
       "2      100326 2021-02-15         f   33.0            33.0             2.0   \n",
       "3      100326 2021-02-16         f   33.0            33.0             2.0   \n",
       "4      100326 2021-02-17         f   33.0            33.0             2.0   \n",
       "\n",
       "   maximum_nights      id  latitude  longitude neighbourhood_cleansed  \n",
       "0            10.0  100326  51.56485   -0.05612                Hackney  \n",
       "1            10.0  100326  51.56485   -0.05612                Hackney  \n",
       "2            10.0  100326  51.56485   -0.05612                Hackney  \n",
       "3            10.0  100326  51.56485   -0.05612                Hackney  \n",
       "4            10.0  100326  51.56485   -0.05612                Hackney  "
      ]
     },
     "execution_count": 41,
     "metadata": {},
     "output_type": "execute_result"
    }
   ],
   "source": [
    "calendar_places.head()"
   ]
  },
  {
   "cell_type": "markdown",
   "id": "4e30e33b",
   "metadata": {},
   "source": [
    ">perform analysis on one year span from 9-2-2021 to 8-2-2020"
   ]
  },
  {
   "cell_type": "code",
   "execution_count": 42,
   "id": "53f2f6d8",
   "metadata": {},
   "outputs": [
    {
     "data": {
      "text/plain": [
       "(Timestamp('2022-02-20 00:00:00'), Timestamp('2021-02-09 00:00:00'))"
      ]
     },
     "execution_count": 42,
     "metadata": {},
     "output_type": "execute_result"
    }
   ],
   "source": [
    "calendar_date_min = calendar_places.date.min()\n",
    "calendar_date_max = calendar_places.date.max()\n",
    "calendar_date_max, calendar_date_min"
   ]
  },
  {
   "cell_type": "code",
   "execution_count": 43,
   "id": "7d1e2105",
   "metadata": {},
   "outputs": [],
   "source": [
    "calendar_one_year = calendar_places[(calendar_places.date >= calendar_date_min) & (calendar_places.date < '2022-02-09')]"
   ]
  },
  {
   "cell_type": "markdown",
   "id": "335528f4",
   "metadata": {},
   "source": [
    ">Hosts seem to setup their calendar for their listings to be available inconsistenly across seasons and this doesn't seem random"
   ]
  },
  {
   "cell_type": "code",
   "execution_count": 83,
   "id": "e70ffcbc",
   "metadata": {},
   "outputs": [
    {
     "data": {
      "image/png": "[encoded data removed]",
      "text/plain": [
       "<Figure size 432x288 with 1 Axes>"
      ]
     },
     "metadata": {
      "needs_background": "light"
     },
     "output_type": "display_data"
    }
   ],
   "source": [
    "calendar_one_year.loc[calendar_one_year.available == 't'].groupby(calendar_one_year.date.dt.month).size().plot(kind='bar')\n",
    "plt.xlabel('Month')\n",
    "plt.ylabel('Bookings potentially available')\n",
    "plt.title( 'Frequency of monthly available Airbnb rentals')\n",
    "plt.show()"
   ]
  },
  {
   "cell_type": "markdown",
   "id": "f2453a7b",
   "metadata": {},
   "source": [
    ">If all listings were to be booked for a whole year, this would generate a revenue of around $1.45 billion in London alone."
   ]
  },
  {
   "cell_type": "code",
   "execution_count": 45,
   "id": "f2c9e18b",
   "metadata": {},
   "outputs": [
    {
     "data": {
      "text/plain": [
       "1271092259.0"
      ]
     },
     "execution_count": 45,
     "metadata": {},
     "output_type": "execute_result"
    }
   ],
   "source": [
    "calendar_one_year.loc[calendar.available == 't'].groupby(calendar.date.dt.month).adjusted_price.sum().sum()"
   ]
  },
  {
   "cell_type": "code",
   "execution_count": 46,
   "id": "5707bf6b",
   "metadata": {},
   "outputs": [
    {
     "data": {
      "image/png": "[encoded data removed]",
      "text/plain": [
       "<Figure size 432x288 with 1 Axes>"
      ]
     },
     "metadata": {
      "needs_background": "light"
     },
     "output_type": "display_data"
    }
   ],
   "source": [
    "calendar_one_year.loc[calendar.available == 't'].groupby(calendar.date.dt.month).adjusted_price.sum().plot(kind='bar', title='Potential Airbnb London revenue in 2021')\n",
    "plt.xlabel('Month')\n",
    "plt.ylabel('Maximum revenue')\n",
    "plt.show()"
   ]
  },
  {
   "cell_type": "markdown",
   "id": "598cef8d",
   "metadata": {},
   "source": [
    ">the mean prices of listings doesn't seem to change with day of week"
   ]
  },
  {
   "cell_type": "code",
   "execution_count": 85,
   "id": "11be1845",
   "metadata": {},
   "outputs": [
    {
     "data": {
      "image/png": "[encoded data removed]",
      "text/plain": [
       "<Figure size 432x288 with 1 Axes>"
      ]
     },
     "metadata": {
      "needs_background": "light"
     },
     "output_type": "display_data"
    }
   ],
   "source": [
    "calendar_places.groupby(calendar.date.dt.day_name()).adjusted_price.mean().plot(kind='bar')\n",
    "plt.xticks(rotation=40)\n",
    "plt.title('Average price on days of week');"
   ]
  },
  {
   "cell_type": "markdown",
   "id": "222f89f8",
   "metadata": {},
   "source": [
    ">the listings through the years seem to have covered the entire coordinates of London"
   ]
  },
  {
   "cell_type": "code",
   "execution_count": 48,
   "id": "4123e6fa",
   "metadata": {},
   "outputs": [
    {
     "data": {
      "image/png": "[encoded data removed]",
      "text/plain": [
       "<Figure size 432x288 with 1 Axes>"
      ]
     },
     "metadata": {
      "needs_background": "light"
     },
     "output_type": "display_data"
    }
   ],
   "source": [
    "calendar_places_unique_listings = calendar_places[~calendar_places.listing_id.duplicated()]\n",
    "plot = sns.scatterplot(x='longitude', y='latitude', data=calendar_places_unique_listings, hue='neighbourhood_cleansed', ec=None)\n",
    "plot.legend_.remove()\n",
    "plt.title('Map of London');"
   ]
  },
  {
   "cell_type": "code",
   "execution_count": null,
   "id": "4972c47e",
   "metadata": {},
   "outputs": [],
   "source": []
  },
  {
   "cell_type": "markdown",
   "id": "484fa1de",
   "metadata": {},
   "source": [
    "---"
   ]
  },
  {
   "cell_type": "markdown",
   "id": "a0792597",
   "metadata": {},
   "source": [
    "### Analysis on listings availability by season"
   ]
  },
  {
   "cell_type": "markdown",
   "id": "e2208951",
   "metadata": {},
   "source": [
    ">Null hypothesis: seasonal availability means are equal\n",
    "Alternative hypothesis: seasonal availability means are not equal"
   ]
  },
  {
   "cell_type": "code",
   "execution_count": 49,
   "id": "bfa86542",
   "metadata": {
    "collapsed": true
   },
   "outputs": [
    {
     "name": "stderr",
     "output_type": "stream",
     "text": [
      "/opt/anaconda3/lib/python3.7/site-packages/ipykernel_launcher.py:2: SettingWithCopyWarning: \n",
      "A value is trying to be set on a copy of a slice from a DataFrame.\n",
      "Try using .loc[row_indexer,col_indexer] = value instead\n",
      "\n",
      "See the caveats in the documentation: https://pandas.pydata.org/pandas-docs/stable/user_guide/indexing.html#returning-a-view-versus-a-copy\n",
      "  \n"
     ]
    }
   ],
   "source": [
    "season_mapping= {1: 'winter', 2: 'winter', 3: 'spring', 4: 'spring', 5: 'spring', 6: 'summer', 7: 'summer', 8: 'summer', 9: 'autumn', 10: 'autumn', 11: 'autumn', 12: 'winter'}\n",
    "calendar_one_year['season'] = calendar_one_year.date.dt.month.map(season_mapping)"
   ]
  },
  {
   "cell_type": "code",
   "execution_count": 50,
   "id": "164d334e",
   "metadata": {},
   "outputs": [
    {
     "data": {
      "text/html": [
       "<div>\n",
       "<style scoped>\n",
       "    .dataframe tbody tr th:only-of-type {\n",
       "        vertical-align: middle;\n",
       "    }\n",
       "\n",
       "    .dataframe tbody tr th {\n",
       "        vertical-align: top;\n",
       "    }\n",
       "\n",
       "    .dataframe thead th {\n",
       "        text-align: right;\n",
       "    }\n",
       "</style>\n",
       "<table border=\"1\" class=\"dataframe\">\n",
       "  <thead>\n",
       "    <tr style=\"text-align: right;\">\n",
       "      <th>season</th>\n",
       "      <th>autumn</th>\n",
       "      <th>spring</th>\n",
       "      <th>summer</th>\n",
       "      <th>winter</th>\n",
       "    </tr>\n",
       "    <tr>\n",
       "      <th>available</th>\n",
       "      <th></th>\n",
       "      <th></th>\n",
       "      <th></th>\n",
       "      <th></th>\n",
       "    </tr>\n",
       "  </thead>\n",
       "  <tbody>\n",
       "    <tr>\n",
       "      <th>f</th>\n",
       "      <td>4994654</td>\n",
       "      <td>3970936</td>\n",
       "      <td>4573622</td>\n",
       "      <td>4728858</td>\n",
       "    </tr>\n",
       "    <tr>\n",
       "      <th>t</th>\n",
       "      <td>1969485</td>\n",
       "      <td>3069732</td>\n",
       "      <td>2467046</td>\n",
       "      <td>1960407</td>\n",
       "    </tr>\n",
       "  </tbody>\n",
       "</table>\n",
       "</div>"
      ],
      "text/plain": [
       "season      autumn   spring   summer   winter\n",
       "available                                    \n",
       "f          4994654  3970936  4573622  4728858\n",
       "t          1969485  3069732  2467046  1960407"
      ]
     },
     "execution_count": 50,
     "metadata": {},
     "output_type": "execute_result"
    }
   ],
   "source": [
    "calendar_one_year.groupby(['season', 'available']).size().unstack(0)"
   ]
  },
  {
   "cell_type": "code",
   "execution_count": 51,
   "id": "a057a711",
   "metadata": {},
   "outputs": [
    {
     "data": {
      "text/html": [
       "<div>\n",
       "<style scoped>\n",
       "    .dataframe tbody tr th:only-of-type {\n",
       "        vertical-align: middle;\n",
       "    }\n",
       "\n",
       "    .dataframe tbody tr th {\n",
       "        vertical-align: top;\n",
       "    }\n",
       "\n",
       "    .dataframe thead th {\n",
       "        text-align: right;\n",
       "    }\n",
       "</style>\n",
       "<table border=\"1\" class=\"dataframe\">\n",
       "  <thead>\n",
       "    <tr style=\"text-align: right;\">\n",
       "      <th>season</th>\n",
       "      <th>autumn</th>\n",
       "      <th>spring</th>\n",
       "      <th>summer</th>\n",
       "      <th>winter</th>\n",
       "      <th>All</th>\n",
       "    </tr>\n",
       "    <tr>\n",
       "      <th>available</th>\n",
       "      <th></th>\n",
       "      <th></th>\n",
       "      <th></th>\n",
       "      <th></th>\n",
       "      <th></th>\n",
       "    </tr>\n",
       "  </thead>\n",
       "  <tbody>\n",
       "    <tr>\n",
       "      <th>f</th>\n",
       "      <td>4994654</td>\n",
       "      <td>3970936</td>\n",
       "      <td>4573622</td>\n",
       "      <td>4728858</td>\n",
       "      <td>18268070</td>\n",
       "    </tr>\n",
       "    <tr>\n",
       "      <th>t</th>\n",
       "      <td>1969485</td>\n",
       "      <td>3069732</td>\n",
       "      <td>2467046</td>\n",
       "      <td>1960407</td>\n",
       "      <td>9466670</td>\n",
       "    </tr>\n",
       "    <tr>\n",
       "      <th>All</th>\n",
       "      <td>6964139</td>\n",
       "      <td>7040668</td>\n",
       "      <td>7040668</td>\n",
       "      <td>6689265</td>\n",
       "      <td>27734740</td>\n",
       "    </tr>\n",
       "  </tbody>\n",
       "</table>\n",
       "</div>"
      ],
      "text/plain": [
       "season      autumn   spring   summer   winter       All\n",
       "available                                              \n",
       "f          4994654  3970936  4573622  4728858  18268070\n",
       "t          1969485  3069732  2467046  1960407   9466670\n",
       "All        6964139  7040668  7040668  6689265  27734740"
      ]
     },
     "execution_count": 51,
     "metadata": {},
     "output_type": "execute_result"
    }
   ],
   "source": [
    "season_availability = pd.crosstab(calendar_one_year.available, calendar_one_year.season, margins=True)\n",
    "season_availability"
   ]
  },
  {
   "cell_type": "code",
   "execution_count": 52,
   "id": "4ed78e1b",
   "metadata": {},
   "outputs": [],
   "source": [
    "season_availability_expected = season_availability.copy()\n",
    "for season in ['autumn', 'spring', 'summer', 'winter']:\n",
    "    for av in ['f', 't']:\n",
    "        season_availability_expected.loc[av, season] = \\\n",
    "            season_availability.loc[av, 'All'] * season_availability[season]['All'] / 27734740"
   ]
  },
  {
   "cell_type": "code",
   "execution_count": 53,
   "id": "b74f8e61",
   "metadata": {},
   "outputs": [
    {
     "data": {
      "text/html": [
       "<div>\n",
       "<style scoped>\n",
       "    .dataframe tbody tr th:only-of-type {\n",
       "        vertical-align: middle;\n",
       "    }\n",
       "\n",
       "    .dataframe tbody tr th {\n",
       "        vertical-align: top;\n",
       "    }\n",
       "\n",
       "    .dataframe thead th {\n",
       "        text-align: right;\n",
       "    }\n",
       "</style>\n",
       "<table border=\"1\" class=\"dataframe\">\n",
       "  <thead>\n",
       "    <tr style=\"text-align: right;\">\n",
       "      <th>season</th>\n",
       "      <th>autumn</th>\n",
       "      <th>spring</th>\n",
       "      <th>summer</th>\n",
       "      <th>winter</th>\n",
       "      <th>All</th>\n",
       "    </tr>\n",
       "    <tr>\n",
       "      <th>available</th>\n",
       "      <th></th>\n",
       "      <th></th>\n",
       "      <th></th>\n",
       "      <th></th>\n",
       "      <th></th>\n",
       "    </tr>\n",
       "  </thead>\n",
       "  <tbody>\n",
       "    <tr>\n",
       "      <th>f</th>\n",
       "      <td>4.587077e+06</td>\n",
       "      <td>4.637484e+06</td>\n",
       "      <td>4.637484e+06</td>\n",
       "      <td>4.406025e+06</td>\n",
       "      <td>18268070</td>\n",
       "    </tr>\n",
       "    <tr>\n",
       "      <th>t</th>\n",
       "      <td>2.377062e+06</td>\n",
       "      <td>2.403184e+06</td>\n",
       "      <td>2.403184e+06</td>\n",
       "      <td>2.283240e+06</td>\n",
       "      <td>9466670</td>\n",
       "    </tr>\n",
       "    <tr>\n",
       "      <th>All</th>\n",
       "      <td>6.964139e+06</td>\n",
       "      <td>7.040668e+06</td>\n",
       "      <td>7.040668e+06</td>\n",
       "      <td>6.689265e+06</td>\n",
       "      <td>27734740</td>\n",
       "    </tr>\n",
       "  </tbody>\n",
       "</table>\n",
       "</div>"
      ],
      "text/plain": [
       "season           autumn        spring        summer        winter       All\n",
       "available                                                                  \n",
       "f          4.587077e+06  4.637484e+06  4.637484e+06  4.406025e+06  18268070\n",
       "t          2.377062e+06  2.403184e+06  2.403184e+06  2.283240e+06   9466670\n",
       "All        6.964139e+06  7.040668e+06  7.040668e+06  6.689265e+06  27734740"
      ]
     },
     "execution_count": 53,
     "metadata": {},
     "output_type": "execute_result"
    }
   ],
   "source": [
    "season_availability_expected"
   ]
  },
  {
   "cell_type": "code",
   "execution_count": 54,
   "id": "5e941685",
   "metadata": {},
   "outputs": [
    {
     "data": {
      "text/plain": [
       "458653.14053528145"
      ]
     },
     "execution_count": 54,
     "metadata": {},
     "output_type": "execute_result"
    }
   ],
   "source": [
    "chi_squared = 0\n",
    "for season in ['autumn', 'spring', 'summer', 'winter']:\n",
    "    for av in ['f', 't']:\n",
    "        chi_squared += (season_availability.loc[av, season] -\n",
    "            season_availability_expected.loc[av, season])**2 / season_availability_expected.loc[av, season]\n",
    "chi_squared"
   ]
  },
  {
   "cell_type": "markdown",
   "id": "f38ed944",
   "metadata": {},
   "source": [
    ">The chi square test statistic is much greater than the chi square critical value. Hence, the null hypothesis has been rejected with 99% confidence."
   ]
  },
  {
   "cell_type": "code",
   "execution_count": 55,
   "id": "246dbadf",
   "metadata": {},
   "outputs": [
    {
     "data": {
      "text/plain": [
       "12.838156466598647"
      ]
     },
     "execution_count": 55,
     "metadata": {},
     "output_type": "execute_result"
    }
   ],
   "source": [
    "stats.chi.ppf(0.995, df=3)**2"
   ]
  },
  {
   "cell_type": "code",
   "execution_count": null,
   "id": "280d21bf",
   "metadata": {},
   "outputs": [],
   "source": []
  },
  {
   "cell_type": "markdown",
   "id": "49b192fb",
   "metadata": {},
   "source": [
    ">the mean prices of listings doesn't seem to change with day of week"
   ]
  },
  {
   "cell_type": "code",
   "execution_count": 86,
   "id": "c3785a46",
   "metadata": {},
   "outputs": [
    {
     "data": {
      "image/png": "[encoded data removed]",
      "text/plain": [
       "<Figure size 432x288 with 1 Axes>"
      ]
     },
     "metadata": {
      "needs_background": "light"
     },
     "output_type": "display_data"
    }
   ],
   "source": [
    "calendar_places.groupby(calendar.date.dt.day_name()).adjusted_price.mean().plot(kind='bar')\n",
    "plt.xticks(rotation=40)\n",
    "plt.title('Average price on days of week');"
   ]
  },
  {
   "cell_type": "code",
   "execution_count": null,
   "id": "8de896ef",
   "metadata": {},
   "outputs": [],
   "source": []
  },
  {
   "cell_type": "code",
   "execution_count": null,
   "id": "a5a64bc4",
   "metadata": {},
   "outputs": [],
   "source": []
  },
  {
   "cell_type": "code",
   "execution_count": 57,
   "id": "4a1437b6",
   "metadata": {},
   "outputs": [],
   "source": [
    "listings_mini = listings[[\n",
    "    'id', 'host_id','host_name', 'host_since', 'host_response_time', \n",
    "    'host_response_rate', 'host_acceptance_rate', 'host_is_superhost', \n",
    "    'host_verifications','neighbourhood','neighbourhood_cleansed', \n",
    "    'latitude', 'longitude', 'property_type', 'room_type', 'accommodates',\n",
    "    'bathrooms_text', 'bedrooms', 'beds', 'amenities', 'price',\n",
    "    'has_availability', 'availability_365', 'calendar_last_scraped', \n",
    "    'number_of_reviews', 'first_review', 'last_review', \n",
    "    'review_scores_rating', 'review_scores_accuracy',\n",
    "    'review_scores_cleanliness', 'review_scores_checkin', \n",
    "    'review_scores_communication', 'review_scores_location',\n",
    "    'review_scores_value', 'instant_bookable',\n",
    "    'calculated_host_listings_count_entire_homes',\n",
    "    'calculated_host_listings_count_private_rooms',\n",
    "    'calculated_host_listings_count_shared_rooms', 'reviews_per_month'\n",
    "]]"
   ]
  },
  {
   "cell_type": "code",
   "execution_count": 58,
   "id": "c98106a4",
   "metadata": {
    "collapsed": true
   },
   "outputs": [
    {
     "name": "stderr",
     "output_type": "stream",
     "text": [
      "/opt/anaconda3/lib/python3.7/site-packages/pandas/core/generic.py:5507: SettingWithCopyWarning: \n",
      "A value is trying to be set on a copy of a slice from a DataFrame.\n",
      "Try using .loc[row_indexer,col_indexer] = value instead\n",
      "\n",
      "See the caveats in the documentation: https://pandas.pydata.org/pandas-docs/stable/user_guide/indexing.html#returning-a-view-versus-a-copy\n",
      "  self[name] = value\n"
     ]
    }
   ],
   "source": [
    "listings_mini.price = listings_mini.price.str.replace(r'[,|$]', '').astype('float')"
   ]
  },
  {
   "cell_type": "markdown",
   "id": "d6cf3877",
   "metadata": {},
   "source": [
    ">Most hosts have a high overall rating approaching 100"
   ]
  },
  {
   "cell_type": "code",
   "execution_count": 59,
   "id": "57ec2021",
   "metadata": {
    "scrolled": true
   },
   "outputs": [
    {
     "data": {
      "image/png": "[encoded data removed]",
      "text/plain": [
       "<Figure size 432x288 with 1 Axes>"
      ]
     },
     "metadata": {
      "needs_background": "light"
     },
     "output_type": "display_data"
    }
   ],
   "source": [
    "sns.distplot(listings_mini.review_scores_rating)\n",
    "plt.title('Distribution of host overall review score');"
   ]
  },
  {
   "cell_type": "code",
   "execution_count": 60,
   "id": "a7f933ea",
   "metadata": {},
   "outputs": [
    {
     "data": {
      "text/plain": [
       "33"
      ]
     },
     "execution_count": 60,
     "metadata": {},
     "output_type": "execute_result"
    }
   ],
   "source": [
    "listings_mini.neighbourhood_cleansed.nunique()"
   ]
  },
  {
   "cell_type": "code",
   "execution_count": 61,
   "id": "07888063",
   "metadata": {
    "scrolled": true
   },
   "outputs": [],
   "source": [
    "neighbourhoods_expensive = listings_mini[listings_mini.neighbourhood_cleansed.isin(listings_mini.groupby('neighbourhood_cleansed').price.mean().nlargest(5).index.values) & (listings_mini.price < 500)]\n",
    "neighbourhoods_cheap = listings_mini[listings_mini.neighbourhood_cleansed.isin(listings_mini.groupby('neighbourhood_cleansed').price.mean().nsmallest(5).index.values) & (listings_mini.price < 500)]"
   ]
  },
  {
   "cell_type": "code",
   "execution_count": 88,
   "id": "b854ff73",
   "metadata": {},
   "outputs": [
    {
     "data": {
      "image/png": "[encoded data removed]",
      "text/plain": [
       "<Figure size 432x288 with 1 Axes>"
      ]
     },
     "metadata": {
      "needs_background": "light"
     },
     "output_type": "display_data"
    }
   ],
   "source": [
    "sns.violinplot(x='neighbourhood_cleansed', y='price', data=neighbourhoods_cheap)\n",
    "plt.xticks(rotation=20)\n",
    "plt.title('Distribution of price for the cheapest neighborhoods');"
   ]
  },
  {
   "cell_type": "code",
   "execution_count": 89,
   "id": "ec870ea4",
   "metadata": {},
   "outputs": [
    {
     "data": {
      "image/png": "[encoded data removed]",
      "text/plain": [
       "<Figure size 432x288 with 1 Axes>"
      ]
     },
     "metadata": {
      "needs_background": "light"
     },
     "output_type": "display_data"
    }
   ],
   "source": [
    "sns.violinplot(x='neighbourhood_cleansed', y='price', data=neighbourhoods_expensive)\n",
    "plt.xticks(rotation=20)\n",
    "plt.title('Distribution of price for the most expensive neighborhoods');"
   ]
  },
  {
   "cell_type": "code",
   "execution_count": 64,
   "id": "19a73efa",
   "metadata": {
    "collapsed": true
   },
   "outputs": [
    {
     "data": {
      "text/plain": [
       "array(['1 shared bath', '1 bath', '2 baths', '1 private bath',\n",
       "       '1.5 shared baths', '1.5 baths', '0 shared baths', nan,\n",
       "       '2.5 shared baths', '2 shared baths', '2.5 baths',\n",
       "       'Shared half-bath', '4 baths', '3 baths', '0 baths',\n",
       "       '3 shared baths', '3.5 baths', 'Half-bath', '5 baths', '4.5 baths',\n",
       "       '5 shared baths', '3.5 shared baths', 'Private half-bath',\n",
       "       '7 baths', '4 shared baths', '6 baths', '6 shared baths',\n",
       "       '5.5 baths', '10 baths', '8.5 baths', '7 shared baths',\n",
       "       '4.5 shared baths', '6.5 baths', '8 shared baths', '17 baths',\n",
       "       '11 baths', '7.5 baths', '8 baths', '10.5 baths', '9 baths',\n",
       "       '12 baths', '9 shared baths', '35 baths', '11.5 baths'],\n",
       "      dtype=object)"
      ]
     },
     "execution_count": 64,
     "metadata": {},
     "output_type": "execute_result"
    }
   ],
   "source": [
    "listings_mini.bathrooms_text.unique()"
   ]
  },
  {
   "cell_type": "markdown",
   "id": "82f5d995",
   "metadata": {},
   "source": [
    ">Convert the bathrooms_text into float representative of number of baths"
   ]
  },
  {
   "cell_type": "code",
   "execution_count": 65,
   "id": "fa59fea6",
   "metadata": {
    "collapsed": true
   },
   "outputs": [
    {
     "name": "stderr",
     "output_type": "stream",
     "text": [
      "/opt/anaconda3/lib/python3.7/site-packages/ipykernel_launcher.py:8: SettingWithCopyWarning: \n",
      "A value is trying to be set on a copy of a slice from a DataFrame.\n",
      "Try using .loc[row_indexer,col_indexer] = value instead\n",
      "\n",
      "See the caveats in the documentation: https://pandas.pydata.org/pandas-docs/stable/user_guide/indexing.html#returning-a-view-versus-a-copy\n",
      "  \n"
     ]
    }
   ],
   "source": [
    "def find_baths(bathrooms_text):\n",
    "    if not isinstance(bathrooms_text, str):\n",
    "        return 0\n",
    "    elif re.search(r'half', bathrooms_text, flags=re.IGNORECASE):\n",
    "        return 0.5\n",
    "    else:\n",
    "        return float(re.findall(\"(\\d+(?:\\.\\d+)?)\", bathrooms_text)[0])\n",
    "listings_mini['bathrooms'] = listings_mini.bathrooms_text.map(find_baths)"
   ]
  },
  {
   "cell_type": "markdown",
   "id": "590671dd",
   "metadata": {},
   "source": [
    ">Number of baths doesn't seem to have a clear correlation with price"
   ]
  },
  {
   "cell_type": "code",
   "execution_count": 66,
   "id": "487def3a",
   "metadata": {
    "scrolled": true
   },
   "outputs": [
    {
     "data": {
      "image/png": "[encoded data removed]",
      "text/plain": [
       "<Figure size 432x288 with 1 Axes>"
      ]
     },
     "metadata": {
      "needs_background": "light"
     },
     "output_type": "display_data"
    }
   ],
   "source": [
    "sns.scatterplot(x='bathrooms', y='price', data=listings_mini[listings_mini.bathrooms > 3])\n",
    "plt.title('Scatterplot of price and number of bathrooms');"
   ]
  },
  {
   "cell_type": "code",
   "execution_count": 67,
   "id": "38d8a2c3",
   "metadata": {},
   "outputs": [
    {
     "data": {
      "text/plain": [
       "0.15059346104712248"
      ]
     },
     "execution_count": 67,
     "metadata": {},
     "output_type": "execute_result"
    }
   ],
   "source": [
    "listings_mini.bathrooms.corr(listings_mini.price)"
   ]
  },
  {
   "cell_type": "code",
   "execution_count": 68,
   "id": "83d18ab0",
   "metadata": {},
   "outputs": [
    {
     "data": {
      "text/plain": [
       "count    76534.000000\n",
       "mean         1.301859\n",
       "std          0.619934\n",
       "min          0.000000\n",
       "25%          1.000000\n",
       "50%          1.000000\n",
       "75%          1.500000\n",
       "max         35.000000\n",
       "Name: bathrooms, dtype: float64"
      ]
     },
     "execution_count": 68,
     "metadata": {},
     "output_type": "execute_result"
    }
   ],
   "source": [
    "listings_mini.bathrooms.describe()"
   ]
  },
  {
   "cell_type": "markdown",
   "id": "666e065d",
   "metadata": {},
   "source": [
    ">Price has a general upward trend until number of beds reachs 9. Prices fluctuate onwards, which could be due to the lower prices set by boutique hotels."
   ]
  },
  {
   "cell_type": "code",
   "execution_count": 69,
   "id": "bf9df5a2",
   "metadata": {
    "scrolled": true
   },
   "outputs": [
    {
     "data": {
      "image/png": "[encoded data removed]",
      "text/plain": [
       "<Figure size 720x288 with 1 Axes>"
      ]
     },
     "metadata": {
      "needs_background": "light"
     },
     "output_type": "display_data"
    }
   ],
   "source": [
    "plt.figure(figsize=(10,4))\n",
    "sns.boxplot(x='beds', y='price', data=listings_mini[listings_mini.price < 500])\n",
    "plt.title('Relationship between number of beds and price');"
   ]
  },
  {
   "cell_type": "markdown",
   "id": "cbf9055d",
   "metadata": {},
   "source": [
    ">As expected listings for entire home/apartment are usually more expensive"
   ]
  },
  {
   "cell_type": "code",
   "execution_count": 70,
   "id": "ae278b40",
   "metadata": {},
   "outputs": [
    {
     "data": {
      "image/png": "[encoded data removed]",
      "text/plain": [
       "<Figure size 432x288 with 1 Axes>"
      ]
     },
     "metadata": {
      "needs_background": "light"
     },
     "output_type": "display_data"
    }
   ],
   "source": [
    "sns.boxplot(x='room_type', y='price', data=listings_mini[listings_mini.price < 500])\n",
    "plt.title('Distribution of price with type of room');"
   ]
  },
  {
   "cell_type": "markdown",
   "id": "19a00aef",
   "metadata": {},
   "source": [
    ">The most expensive listings seem to reside in the center of London"
   ]
  },
  {
   "cell_type": "code",
   "execution_count": 71,
   "id": "8962aab1",
   "metadata": {},
   "outputs": [
    {
     "data": {
      "image/png": "[encoded data removed]",
      "text/plain": [
       "<Figure size 432x288 with 2 Axes>"
      ]
     },
     "metadata": {
      "needs_background": "light"
     },
     "output_type": "display_data"
    }
   ],
   "source": [
    "listings_mini[listings_mini.price > 1000].plot(kind='scatter', x='latitude', y='longitude', c='price', cmap=plt.get_cmap('jet'), colorbar=True, alpha=0.4)\n",
    "plt.title('Prices by location')\n",
    "plt.show();"
   ]
  },
  {
   "cell_type": "code",
   "execution_count": 72,
   "id": "0dc1e6f8",
   "metadata": {},
   "outputs": [
    {
     "data": {
      "text/plain": [
       "neighbourhood_cleansed\n",
       "City of London            258.104308\n",
       "Westminster               183.478077\n",
       "Kensington and Chelsea    175.704636\n",
       "Islington                 144.307487\n",
       "Camden                    125.717127\n",
       "Name: price, dtype: float64"
      ]
     },
     "execution_count": 72,
     "metadata": {},
     "output_type": "execute_result"
    }
   ],
   "source": [
    "listings_mini.groupby('neighbourhood_cleansed').price.mean().nlargest(5)"
   ]
  },
  {
   "cell_type": "code",
   "execution_count": 73,
   "id": "c90c7497",
   "metadata": {},
   "outputs": [
    {
     "data": {
      "text/plain": [
       "neighbourhood_cleansed\n",
       "Croydon                 56.724320\n",
       "Bexley                  59.003623\n",
       "Hillingdon              61.622793\n",
       "Barking and Dagenham    64.480100\n",
       "Enfield                 69.067873\n",
       "Name: price, dtype: float64"
      ]
     },
     "execution_count": 73,
     "metadata": {},
     "output_type": "execute_result"
    }
   ],
   "source": [
    "listings_mini.groupby('neighbourhood_cleansed').price.mean().nsmallest(5)"
   ]
  },
  {
   "cell_type": "markdown",
   "id": "7d07f9ea",
   "metadata": {},
   "source": [
    ">Analysis on the different amenities offered"
   ]
  },
  {
   "cell_type": "code",
   "execution_count": 74,
   "id": "8117d0e5",
   "metadata": {
    "collapsed": true
   },
   "outputs": [
    {
     "name": "stderr",
     "output_type": "stream",
     "text": [
      "/opt/anaconda3/lib/python3.7/site-packages/pandas/core/generic.py:5507: SettingWithCopyWarning: \n",
      "A value is trying to be set on a copy of a slice from a DataFrame.\n",
      "Try using .loc[row_indexer,col_indexer] = value instead\n",
      "\n",
      "See the caveats in the documentation: https://pandas.pydata.org/pandas-docs/stable/user_guide/indexing.html#returning-a-view-versus-a-copy\n",
      "  self[name] = value\n"
     ]
    }
   ],
   "source": [
    "listings_mini.amenities = listings_mini.amenities.map(lambda x: ast.literal_eval(x))"
   ]
  },
  {
   "cell_type": "code",
   "execution_count": 75,
   "id": "120b0857",
   "metadata": {},
   "outputs": [],
   "source": [
    "listings_mini = listings_mini.join(listings.amenities.str.join('|').str.get_dummies().add_prefix('amenities_'))"
   ]
  },
  {
   "cell_type": "code",
   "execution_count": 76,
   "id": "502d2d1a",
   "metadata": {},
   "outputs": [],
   "source": [
    "listings_mini['price_bracket'] = pd.qcut(listings_mini.price, 4)"
   ]
  },
  {
   "cell_type": "code",
   "execution_count": 77,
   "id": "a6c08242",
   "metadata": {},
   "outputs": [],
   "source": [
    "amenities_types = [amenity for amenity in listings_mini.columns if amenity.startswith('amenities_')]\n",
    "listings_amenities = listings_mini[amenities_types + ['price_bracket']]"
   ]
  },
  {
   "cell_type": "code",
   "execution_count": 78,
   "id": "a8cba6ce",
   "metadata": {},
   "outputs": [
    {
     "data": {
      "text/html": [
       "<div>\n",
       "<style scoped>\n",
       "    .dataframe tbody tr th:only-of-type {\n",
       "        vertical-align: middle;\n",
       "    }\n",
       "\n",
       "    .dataframe tbody tr th {\n",
       "        vertical-align: top;\n",
       "    }\n",
       "\n",
       "    .dataframe thead th {\n",
       "        text-align: right;\n",
       "    }\n",
       "</style>\n",
       "<table border=\"1\" class=\"dataframe\">\n",
       "  <thead>\n",
       "    <tr style=\"text-align: right;\">\n",
       "      <th></th>\n",
       "      <th>amenities_</th>\n",
       "      <th>amenities_\"</th>\n",
       "      <th>amenities_&amp;</th>\n",
       "      <th>amenities_'</th>\n",
       "      <th>amenities_(</th>\n",
       "      <th>amenities_)</th>\n",
       "      <th>amenities_+</th>\n",
       "      <th>amenities_,</th>\n",
       "      <th>amenities_-</th>\n",
       "      <th>amenities_.</th>\n",
       "      <th>amenities_/</th>\n",
       "      <th>amenities_0</th>\n",
       "      <th>amenities_1</th>\n",
       "      <th>amenities_2</th>\n",
       "      <th>amenities_3</th>\n",
       "      <th>amenities_4</th>\n",
       "      <th>amenities_5</th>\n",
       "      <th>amenities_6</th>\n",
       "      <th>amenities_7</th>\n",
       "      <th>amenities_8</th>\n",
       "      <th>amenities_9</th>\n",
       "      <th>amenities_:</th>\n",
       "      <th>amenities_A</th>\n",
       "      <th>amenities_B</th>\n",
       "      <th>amenities_C</th>\n",
       "      <th>amenities_D</th>\n",
       "      <th>amenities_E</th>\n",
       "      <th>amenities_F</th>\n",
       "      <th>amenities_G</th>\n",
       "      <th>amenities_H</th>\n",
       "      <th>amenities_I</th>\n",
       "      <th>amenities_J</th>\n",
       "      <th>amenities_K</th>\n",
       "      <th>amenities_L</th>\n",
       "      <th>amenities_M</th>\n",
       "      <th>amenities_N</th>\n",
       "      <th>amenities_O</th>\n",
       "      <th>amenities_P</th>\n",
       "      <th>amenities_Q</th>\n",
       "      <th>amenities_R</th>\n",
       "      <th>amenities_S</th>\n",
       "      <th>amenities_T</th>\n",
       "      <th>amenities_U</th>\n",
       "      <th>amenities_V</th>\n",
       "      <th>amenities_W</th>\n",
       "      <th>amenities_X</th>\n",
       "      <th>amenities_Y</th>\n",
       "      <th>amenities_Z</th>\n",
       "      <th>amenities_[</th>\n",
       "      <th>amenities_\\</th>\n",
       "      <th>amenities_]</th>\n",
       "      <th>amenities_a</th>\n",
       "      <th>amenities_b</th>\n",
       "      <th>amenities_c</th>\n",
       "      <th>amenities_d</th>\n",
       "      <th>amenities_e</th>\n",
       "      <th>amenities_f</th>\n",
       "      <th>amenities_g</th>\n",
       "      <th>amenities_h</th>\n",
       "      <th>amenities_i</th>\n",
       "      <th>amenities_j</th>\n",
       "      <th>amenities_k</th>\n",
       "      <th>amenities_l</th>\n",
       "      <th>amenities_m</th>\n",
       "      <th>amenities_n</th>\n",
       "      <th>amenities_o</th>\n",
       "      <th>amenities_p</th>\n",
       "      <th>amenities_q</th>\n",
       "      <th>amenities_r</th>\n",
       "      <th>amenities_s</th>\n",
       "      <th>amenities_t</th>\n",
       "      <th>amenities_u</th>\n",
       "      <th>amenities_v</th>\n",
       "      <th>amenities_w</th>\n",
       "      <th>amenities_x</th>\n",
       "      <th>amenities_y</th>\n",
       "      <th>amenities_z</th>\n",
       "    </tr>\n",
       "    <tr>\n",
       "      <th>price_bracket</th>\n",
       "      <th></th>\n",
       "      <th></th>\n",
       "      <th></th>\n",
       "      <th></th>\n",
       "      <th></th>\n",
       "      <th></th>\n",
       "      <th></th>\n",
       "      <th></th>\n",
       "      <th></th>\n",
       "      <th></th>\n",
       "      <th></th>\n",
       "      <th></th>\n",
       "      <th></th>\n",
       "      <th></th>\n",
       "      <th></th>\n",
       "      <th></th>\n",
       "      <th></th>\n",
       "      <th></th>\n",
       "      <th></th>\n",
       "      <th></th>\n",
       "      <th></th>\n",
       "      <th></th>\n",
       "      <th></th>\n",
       "      <th></th>\n",
       "      <th></th>\n",
       "      <th></th>\n",
       "      <th></th>\n",
       "      <th></th>\n",
       "      <th></th>\n",
       "      <th></th>\n",
       "      <th></th>\n",
       "      <th></th>\n",
       "      <th></th>\n",
       "      <th></th>\n",
       "      <th></th>\n",
       "      <th></th>\n",
       "      <th></th>\n",
       "      <th></th>\n",
       "      <th></th>\n",
       "      <th></th>\n",
       "      <th></th>\n",
       "      <th></th>\n",
       "      <th></th>\n",
       "      <th></th>\n",
       "      <th></th>\n",
       "      <th></th>\n",
       "      <th></th>\n",
       "      <th></th>\n",
       "      <th></th>\n",
       "      <th></th>\n",
       "      <th></th>\n",
       "      <th></th>\n",
       "      <th></th>\n",
       "      <th></th>\n",
       "      <th></th>\n",
       "      <th></th>\n",
       "      <th></th>\n",
       "      <th></th>\n",
       "      <th></th>\n",
       "      <th></th>\n",
       "      <th></th>\n",
       "      <th></th>\n",
       "      <th></th>\n",
       "      <th></th>\n",
       "      <th></th>\n",
       "      <th></th>\n",
       "      <th></th>\n",
       "      <th></th>\n",
       "      <th></th>\n",
       "      <th></th>\n",
       "      <th></th>\n",
       "      <th></th>\n",
       "      <th></th>\n",
       "      <th></th>\n",
       "      <th></th>\n",
       "      <th></th>\n",
       "      <th></th>\n",
       "    </tr>\n",
       "  </thead>\n",
       "  <tbody>\n",
       "    <tr>\n",
       "      <th>(-0.001, 42.0]</th>\n",
       "      <td>19245</td>\n",
       "      <td>19246</td>\n",
       "      <td>2</td>\n",
       "      <td>1</td>\n",
       "      <td>1</td>\n",
       "      <td>1</td>\n",
       "      <td>0</td>\n",
       "      <td>19143</td>\n",
       "      <td>448</td>\n",
       "      <td>1</td>\n",
       "      <td>181</td>\n",
       "      <td>535</td>\n",
       "      <td>535</td>\n",
       "      <td>541</td>\n",
       "      <td>93</td>\n",
       "      <td>18</td>\n",
       "      <td>14</td>\n",
       "      <td>4</td>\n",
       "      <td>4</td>\n",
       "      <td>3</td>\n",
       "      <td>451</td>\n",
       "      <td>30</td>\n",
       "      <td>684</td>\n",
       "      <td>8327</td>\n",
       "      <td>12725</td>\n",
       "      <td>14201</td>\n",
       "      <td>17518</td>\n",
       "      <td>12139</td>\n",
       "      <td>3383</td>\n",
       "      <td>18730</td>\n",
       "      <td>12694</td>\n",
       "      <td>4</td>\n",
       "      <td>16721</td>\n",
       "      <td>16791</td>\n",
       "      <td>5778</td>\n",
       "      <td>111</td>\n",
       "      <td>5307</td>\n",
       "      <td>5611</td>\n",
       "      <td>535</td>\n",
       "      <td>6546</td>\n",
       "      <td>17248</td>\n",
       "      <td>8869</td>\n",
       "      <td>2</td>\n",
       "      <td>8842</td>\n",
       "      <td>18912</td>\n",
       "      <td>1</td>\n",
       "      <td>0</td>\n",
       "      <td>5</td>\n",
       "      <td>19258</td>\n",
       "      <td>542</td>\n",
       "      <td>19258</td>\n",
       "      <td>19243</td>\n",
       "      <td>15228</td>\n",
       "      <td>18670</td>\n",
       "      <td>18860</td>\n",
       "      <td>19244</td>\n",
       "      <td>18711</td>\n",
       "      <td>19131</td>\n",
       "      <td>18728</td>\n",
       "      <td>19134</td>\n",
       "      <td>0</td>\n",
       "      <td>18203</td>\n",
       "      <td>19160</td>\n",
       "      <td>19015</td>\n",
       "      <td>19242</td>\n",
       "      <td>19157</td>\n",
       "      <td>16038</td>\n",
       "      <td>0</td>\n",
       "      <td>19222</td>\n",
       "      <td>19223</td>\n",
       "      <td>19242</td>\n",
       "      <td>10144</td>\n",
       "      <td>9994</td>\n",
       "      <td>18118</td>\n",
       "      <td>12885</td>\n",
       "      <td>18210</td>\n",
       "      <td>536</td>\n",
       "    </tr>\n",
       "    <tr>\n",
       "      <th>(42.0, 75.0]</th>\n",
       "      <td>20426</td>\n",
       "      <td>20432</td>\n",
       "      <td>2</td>\n",
       "      <td>0</td>\n",
       "      <td>0</td>\n",
       "      <td>0</td>\n",
       "      <td>0</td>\n",
       "      <td>20296</td>\n",
       "      <td>673</td>\n",
       "      <td>0</td>\n",
       "      <td>508</td>\n",
       "      <td>972</td>\n",
       "      <td>969</td>\n",
       "      <td>974</td>\n",
       "      <td>103</td>\n",
       "      <td>12</td>\n",
       "      <td>16</td>\n",
       "      <td>2</td>\n",
       "      <td>5</td>\n",
       "      <td>4</td>\n",
       "      <td>885</td>\n",
       "      <td>60</td>\n",
       "      <td>1098</td>\n",
       "      <td>9788</td>\n",
       "      <td>14581</td>\n",
       "      <td>16070</td>\n",
       "      <td>19033</td>\n",
       "      <td>11604</td>\n",
       "      <td>2992</td>\n",
       "      <td>19826</td>\n",
       "      <td>14837</td>\n",
       "      <td>2</td>\n",
       "      <td>17922</td>\n",
       "      <td>17767</td>\n",
       "      <td>6412</td>\n",
       "      <td>150</td>\n",
       "      <td>6581</td>\n",
       "      <td>8284</td>\n",
       "      <td>481</td>\n",
       "      <td>8066</td>\n",
       "      <td>18858</td>\n",
       "      <td>13049</td>\n",
       "      <td>2</td>\n",
       "      <td>13044</td>\n",
       "      <td>20053</td>\n",
       "      <td>1</td>\n",
       "      <td>0</td>\n",
       "      <td>2</td>\n",
       "      <td>20446</td>\n",
       "      <td>982</td>\n",
       "      <td>20446</td>\n",
       "      <td>20425</td>\n",
       "      <td>16192</td>\n",
       "      <td>19769</td>\n",
       "      <td>20120</td>\n",
       "      <td>20428</td>\n",
       "      <td>19735</td>\n",
       "      <td>20359</td>\n",
       "      <td>19933</td>\n",
       "      <td>20301</td>\n",
       "      <td>0</td>\n",
       "      <td>19314</td>\n",
       "      <td>20375</td>\n",
       "      <td>20259</td>\n",
       "      <td>20426</td>\n",
       "      <td>20375</td>\n",
       "      <td>17691</td>\n",
       "      <td>0</td>\n",
       "      <td>20412</td>\n",
       "      <td>20412</td>\n",
       "      <td>20422</td>\n",
       "      <td>10456</td>\n",
       "      <td>12675</td>\n",
       "      <td>19385</td>\n",
       "      <td>14213</td>\n",
       "      <td>19650</td>\n",
       "      <td>541</td>\n",
       "    </tr>\n",
       "    <tr>\n",
       "      <th>(75.0, 120.0]</th>\n",
       "      <td>17900</td>\n",
       "      <td>17905</td>\n",
       "      <td>4</td>\n",
       "      <td>1</td>\n",
       "      <td>0</td>\n",
       "      <td>1</td>\n",
       "      <td>6</td>\n",
       "      <td>17824</td>\n",
       "      <td>964</td>\n",
       "      <td>1</td>\n",
       "      <td>893</td>\n",
       "      <td>1567</td>\n",
       "      <td>1567</td>\n",
       "      <td>1570</td>\n",
       "      <td>141</td>\n",
       "      <td>18</td>\n",
       "      <td>34</td>\n",
       "      <td>12</td>\n",
       "      <td>4</td>\n",
       "      <td>3</td>\n",
       "      <td>1468</td>\n",
       "      <td>71</td>\n",
       "      <td>1230</td>\n",
       "      <td>9241</td>\n",
       "      <td>14112</td>\n",
       "      <td>15356</td>\n",
       "      <td>17082</td>\n",
       "      <td>9847</td>\n",
       "      <td>3003</td>\n",
       "      <td>17563</td>\n",
       "      <td>14308</td>\n",
       "      <td>3</td>\n",
       "      <td>16862</td>\n",
       "      <td>15761</td>\n",
       "      <td>6494</td>\n",
       "      <td>227</td>\n",
       "      <td>7419</td>\n",
       "      <td>8995</td>\n",
       "      <td>551</td>\n",
       "      <td>8334</td>\n",
       "      <td>16940</td>\n",
       "      <td>13861</td>\n",
       "      <td>2</td>\n",
       "      <td>13848</td>\n",
       "      <td>17661</td>\n",
       "      <td>1</td>\n",
       "      <td>0</td>\n",
       "      <td>1</td>\n",
       "      <td>17916</td>\n",
       "      <td>1582</td>\n",
       "      <td>17916</td>\n",
       "      <td>17902</td>\n",
       "      <td>14871</td>\n",
       "      <td>17639</td>\n",
       "      <td>17703</td>\n",
       "      <td>17904</td>\n",
       "      <td>17343</td>\n",
       "      <td>17855</td>\n",
       "      <td>17689</td>\n",
       "      <td>17825</td>\n",
       "      <td>1</td>\n",
       "      <td>17220</td>\n",
       "      <td>17873</td>\n",
       "      <td>17804</td>\n",
       "      <td>17903</td>\n",
       "      <td>17865</td>\n",
       "      <td>16068</td>\n",
       "      <td>0</td>\n",
       "      <td>17891</td>\n",
       "      <td>17890</td>\n",
       "      <td>17903</td>\n",
       "      <td>9724</td>\n",
       "      <td>12799</td>\n",
       "      <td>17212</td>\n",
       "      <td>13281</td>\n",
       "      <td>17461</td>\n",
       "      <td>656</td>\n",
       "    </tr>\n",
       "    <tr>\n",
       "      <th>(120.0, 17746.0]</th>\n",
       "      <td>18904</td>\n",
       "      <td>18905</td>\n",
       "      <td>4</td>\n",
       "      <td>27</td>\n",
       "      <td>2</td>\n",
       "      <td>2</td>\n",
       "      <td>6</td>\n",
       "      <td>18817</td>\n",
       "      <td>1356</td>\n",
       "      <td>0</td>\n",
       "      <td>1642</td>\n",
       "      <td>2611</td>\n",
       "      <td>2609</td>\n",
       "      <td>2613</td>\n",
       "      <td>160</td>\n",
       "      <td>21</td>\n",
       "      <td>31</td>\n",
       "      <td>16</td>\n",
       "      <td>3</td>\n",
       "      <td>6</td>\n",
       "      <td>2526</td>\n",
       "      <td>95</td>\n",
       "      <td>2508</td>\n",
       "      <td>10468</td>\n",
       "      <td>15108</td>\n",
       "      <td>16831</td>\n",
       "      <td>17869</td>\n",
       "      <td>10797</td>\n",
       "      <td>4113</td>\n",
       "      <td>18578</td>\n",
       "      <td>16325</td>\n",
       "      <td>0</td>\n",
       "      <td>17886</td>\n",
       "      <td>17138</td>\n",
       "      <td>8316</td>\n",
       "      <td>298</td>\n",
       "      <td>9045</td>\n",
       "      <td>10319</td>\n",
       "      <td>935</td>\n",
       "      <td>9642</td>\n",
       "      <td>17877</td>\n",
       "      <td>16710</td>\n",
       "      <td>0</td>\n",
       "      <td>16707</td>\n",
       "      <td>18674</td>\n",
       "      <td>0</td>\n",
       "      <td>1</td>\n",
       "      <td>3</td>\n",
       "      <td>18914</td>\n",
       "      <td>2617</td>\n",
       "      <td>18914</td>\n",
       "      <td>18903</td>\n",
       "      <td>16019</td>\n",
       "      <td>18663</td>\n",
       "      <td>18787</td>\n",
       "      <td>18904</td>\n",
       "      <td>18416</td>\n",
       "      <td>18880</td>\n",
       "      <td>18728</td>\n",
       "      <td>18814</td>\n",
       "      <td>0</td>\n",
       "      <td>18014</td>\n",
       "      <td>18880</td>\n",
       "      <td>18831</td>\n",
       "      <td>18902</td>\n",
       "      <td>18872</td>\n",
       "      <td>17144</td>\n",
       "      <td>5</td>\n",
       "      <td>18900</td>\n",
       "      <td>18895</td>\n",
       "      <td>18899</td>\n",
       "      <td>11412</td>\n",
       "      <td>14335</td>\n",
       "      <td>18450</td>\n",
       "      <td>13823</td>\n",
       "      <td>18682</td>\n",
       "      <td>674</td>\n",
       "    </tr>\n",
       "  </tbody>\n",
       "</table>\n",
       "</div>"
      ],
      "text/plain": [
       "                  amenities_   amenities_\"  amenities_&  amenities_'  \\\n",
       "price_bracket                                                          \n",
       "(-0.001, 42.0]          19245        19246            2            1   \n",
       "(42.0, 75.0]            20426        20432            2            0   \n",
       "(75.0, 120.0]           17900        17905            4            1   \n",
       "(120.0, 17746.0]        18904        18905            4           27   \n",
       "\n",
       "                  amenities_(  amenities_)  amenities_+  amenities_,  \\\n",
       "price_bracket                                                          \n",
       "(-0.001, 42.0]              1            1            0        19143   \n",
       "(42.0, 75.0]                0            0            0        20296   \n",
       "(75.0, 120.0]               0            1            6        17824   \n",
       "(120.0, 17746.0]            2            2            6        18817   \n",
       "\n",
       "                  amenities_-  amenities_.  amenities_/  amenities_0  \\\n",
       "price_bracket                                                          \n",
       "(-0.001, 42.0]            448            1          181          535   \n",
       "(42.0, 75.0]              673            0          508          972   \n",
       "(75.0, 120.0]             964            1          893         1567   \n",
       "(120.0, 17746.0]         1356            0         1642         2611   \n",
       "\n",
       "                  amenities_1  amenities_2  amenities_3  amenities_4  \\\n",
       "price_bracket                                                          \n",
       "(-0.001, 42.0]            535          541           93           18   \n",
       "(42.0, 75.0]              969          974          103           12   \n",
       "(75.0, 120.0]            1567         1570          141           18   \n",
       "(120.0, 17746.0]         2609         2613          160           21   \n",
       "\n",
       "                  amenities_5  amenities_6  amenities_7  amenities_8  \\\n",
       "price_bracket                                                          \n",
       "(-0.001, 42.0]             14            4            4            3   \n",
       "(42.0, 75.0]               16            2            5            4   \n",
       "(75.0, 120.0]              34           12            4            3   \n",
       "(120.0, 17746.0]           31           16            3            6   \n",
       "\n",
       "                  amenities_9  amenities_:  amenities_A  amenities_B  \\\n",
       "price_bracket                                                          \n",
       "(-0.001, 42.0]            451           30          684         8327   \n",
       "(42.0, 75.0]              885           60         1098         9788   \n",
       "(75.0, 120.0]            1468           71         1230         9241   \n",
       "(120.0, 17746.0]         2526           95         2508        10468   \n",
       "\n",
       "                  amenities_C  amenities_D  amenities_E  amenities_F  \\\n",
       "price_bracket                                                          \n",
       "(-0.001, 42.0]          12725        14201        17518        12139   \n",
       "(42.0, 75.0]            14581        16070        19033        11604   \n",
       "(75.0, 120.0]           14112        15356        17082         9847   \n",
       "(120.0, 17746.0]        15108        16831        17869        10797   \n",
       "\n",
       "                  amenities_G  amenities_H  amenities_I  amenities_J  \\\n",
       "price_bracket                                                          \n",
       "(-0.001, 42.0]           3383        18730        12694            4   \n",
       "(42.0, 75.0]             2992        19826        14837            2   \n",
       "(75.0, 120.0]            3003        17563        14308            3   \n",
       "(120.0, 17746.0]         4113        18578        16325            0   \n",
       "\n",
       "                  amenities_K  amenities_L  amenities_M  amenities_N  \\\n",
       "price_bracket                                                          \n",
       "(-0.001, 42.0]          16721        16791         5778          111   \n",
       "(42.0, 75.0]            17922        17767         6412          150   \n",
       "(75.0, 120.0]           16862        15761         6494          227   \n",
       "(120.0, 17746.0]        17886        17138         8316          298   \n",
       "\n",
       "                  amenities_O  amenities_P  amenities_Q  amenities_R  \\\n",
       "price_bracket                                                          \n",
       "(-0.001, 42.0]           5307         5611          535         6546   \n",
       "(42.0, 75.0]             6581         8284          481         8066   \n",
       "(75.0, 120.0]            7419         8995          551         8334   \n",
       "(120.0, 17746.0]         9045        10319          935         9642   \n",
       "\n",
       "                  amenities_S  amenities_T  amenities_U  amenities_V  \\\n",
       "price_bracket                                                          \n",
       "(-0.001, 42.0]          17248         8869            2         8842   \n",
       "(42.0, 75.0]            18858        13049            2        13044   \n",
       "(75.0, 120.0]           16940        13861            2        13848   \n",
       "(120.0, 17746.0]        17877        16710            0        16707   \n",
       "\n",
       "                  amenities_W  amenities_X  amenities_Y  amenities_Z  \\\n",
       "price_bracket                                                          \n",
       "(-0.001, 42.0]          18912            1            0            5   \n",
       "(42.0, 75.0]            20053            1            0            2   \n",
       "(75.0, 120.0]           17661            1            0            1   \n",
       "(120.0, 17746.0]        18674            0            1            3   \n",
       "\n",
       "                  amenities_[  amenities_\\  amenities_]  amenities_a  \\\n",
       "price_bracket                                                          \n",
       "(-0.001, 42.0]          19258          542        19258        19243   \n",
       "(42.0, 75.0]            20446          982        20446        20425   \n",
       "(75.0, 120.0]           17916         1582        17916        17902   \n",
       "(120.0, 17746.0]        18914         2617        18914        18903   \n",
       "\n",
       "                  amenities_b  amenities_c  amenities_d  amenities_e  \\\n",
       "price_bracket                                                          \n",
       "(-0.001, 42.0]          15228        18670        18860        19244   \n",
       "(42.0, 75.0]            16192        19769        20120        20428   \n",
       "(75.0, 120.0]           14871        17639        17703        17904   \n",
       "(120.0, 17746.0]        16019        18663        18787        18904   \n",
       "\n",
       "                  amenities_f  amenities_g  amenities_h  amenities_i  \\\n",
       "price_bracket                                                          \n",
       "(-0.001, 42.0]          18711        19131        18728        19134   \n",
       "(42.0, 75.0]            19735        20359        19933        20301   \n",
       "(75.0, 120.0]           17343        17855        17689        17825   \n",
       "(120.0, 17746.0]        18416        18880        18728        18814   \n",
       "\n",
       "                  amenities_j  amenities_k  amenities_l  amenities_m  \\\n",
       "price_bracket                                                          \n",
       "(-0.001, 42.0]              0        18203        19160        19015   \n",
       "(42.0, 75.0]                0        19314        20375        20259   \n",
       "(75.0, 120.0]               1        17220        17873        17804   \n",
       "(120.0, 17746.0]            0        18014        18880        18831   \n",
       "\n",
       "                  amenities_n  amenities_o  amenities_p  amenities_q  \\\n",
       "price_bracket                                                          \n",
       "(-0.001, 42.0]          19242        19157        16038            0   \n",
       "(42.0, 75.0]            20426        20375        17691            0   \n",
       "(75.0, 120.0]           17903        17865        16068            0   \n",
       "(120.0, 17746.0]        18902        18872        17144            5   \n",
       "\n",
       "                  amenities_r  amenities_s  amenities_t  amenities_u  \\\n",
       "price_bracket                                                          \n",
       "(-0.001, 42.0]          19222        19223        19242        10144   \n",
       "(42.0, 75.0]            20412        20412        20422        10456   \n",
       "(75.0, 120.0]           17891        17890        17903         9724   \n",
       "(120.0, 17746.0]        18900        18895        18899        11412   \n",
       "\n",
       "                  amenities_v  amenities_w  amenities_x  amenities_y  \\\n",
       "price_bracket                                                          \n",
       "(-0.001, 42.0]           9994        18118        12885        18210   \n",
       "(42.0, 75.0]            12675        19385        14213        19650   \n",
       "(75.0, 120.0]           12799        17212        13281        17461   \n",
       "(120.0, 17746.0]        14335        18450        13823        18682   \n",
       "\n",
       "                  amenities_z  \n",
       "price_bracket                  \n",
       "(-0.001, 42.0]            536  \n",
       "(42.0, 75.0]              541  \n",
       "(75.0, 120.0]             656  \n",
       "(120.0, 17746.0]          674  "
      ]
     },
     "execution_count": 78,
     "metadata": {},
     "output_type": "execute_result"
    }
   ],
   "source": [
    "amenities_count = pd.pivot_table(listings_amenities, index=['price_bracket'], values=amenities_types, aggfunc=np.sum)\n",
    "amenities_count"
   ]
  },
  {
   "cell_type": "markdown",
   "id": "2fb82271",
   "metadata": {},
   "source": [
    ">The amenities that are discriminative of the differet price brackets include TV, bedroom lock, dishwasher, and so on"
   ]
  },
  {
   "cell_type": "code",
   "execution_count": 79,
   "id": "6a5f2d42",
   "metadata": {},
   "outputs": [
    {
     "data": {
      "text/html": [
       "<div>\n",
       "<style scoped>\n",
       "    .dataframe tbody tr th:only-of-type {\n",
       "        vertical-align: middle;\n",
       "    }\n",
       "\n",
       "    .dataframe tbody tr th {\n",
       "        vertical-align: top;\n",
       "    }\n",
       "\n",
       "    .dataframe thead th {\n",
       "        text-align: right;\n",
       "    }\n",
       "</style>\n",
       "<table border=\"1\" class=\"dataframe\">\n",
       "  <thead>\n",
       "    <tr style=\"text-align: right;\">\n",
       "      <th></th>\n",
       "      <th>amenities_V</th>\n",
       "      <th>amenities_T</th>\n",
       "      <th>amenities_P</th>\n",
       "      <th>amenities_v</th>\n",
       "      <th>amenities_O</th>\n",
       "      <th>amenities_I</th>\n",
       "      <th>amenities_R</th>\n",
       "      <th>amenities_D</th>\n",
       "      <th>amenities_M</th>\n",
       "      <th>amenities_[</th>\n",
       "    </tr>\n",
       "    <tr>\n",
       "      <th>price_bracket</th>\n",
       "      <th></th>\n",
       "      <th></th>\n",
       "      <th></th>\n",
       "      <th></th>\n",
       "      <th></th>\n",
       "      <th></th>\n",
       "      <th></th>\n",
       "      <th></th>\n",
       "      <th></th>\n",
       "      <th></th>\n",
       "    </tr>\n",
       "  </thead>\n",
       "  <tbody>\n",
       "    <tr>\n",
       "      <th>(-0.001, 42.0]</th>\n",
       "      <td>8842</td>\n",
       "      <td>8869</td>\n",
       "      <td>5611</td>\n",
       "      <td>9994</td>\n",
       "      <td>5307</td>\n",
       "      <td>12694</td>\n",
       "      <td>6546</td>\n",
       "      <td>14201</td>\n",
       "      <td>5778</td>\n",
       "      <td>19258</td>\n",
       "    </tr>\n",
       "    <tr>\n",
       "      <th>(42.0, 75.0]</th>\n",
       "      <td>13044</td>\n",
       "      <td>13049</td>\n",
       "      <td>8284</td>\n",
       "      <td>12675</td>\n",
       "      <td>6581</td>\n",
       "      <td>14837</td>\n",
       "      <td>8066</td>\n",
       "      <td>16070</td>\n",
       "      <td>6412</td>\n",
       "      <td>20446</td>\n",
       "    </tr>\n",
       "    <tr>\n",
       "      <th>(75.0, 120.0]</th>\n",
       "      <td>13848</td>\n",
       "      <td>13861</td>\n",
       "      <td>8995</td>\n",
       "      <td>12799</td>\n",
       "      <td>7419</td>\n",
       "      <td>14308</td>\n",
       "      <td>8334</td>\n",
       "      <td>15356</td>\n",
       "      <td>6494</td>\n",
       "      <td>17916</td>\n",
       "    </tr>\n",
       "    <tr>\n",
       "      <th>(120.0, 17746.0]</th>\n",
       "      <td>16707</td>\n",
       "      <td>16710</td>\n",
       "      <td>10319</td>\n",
       "      <td>14335</td>\n",
       "      <td>9045</td>\n",
       "      <td>16325</td>\n",
       "      <td>9642</td>\n",
       "      <td>16831</td>\n",
       "      <td>8316</td>\n",
       "      <td>18914</td>\n",
       "    </tr>\n",
       "  </tbody>\n",
       "</table>\n",
       "</div>"
      ],
      "text/plain": [
       "                  amenities_V  amenities_T  amenities_P  amenities_v  \\\n",
       "price_bracket                                                          \n",
       "(-0.001, 42.0]           8842         8869         5611         9994   \n",
       "(42.0, 75.0]            13044        13049         8284        12675   \n",
       "(75.0, 120.0]           13848        13861         8995        12799   \n",
       "(120.0, 17746.0]        16707        16710        10319        14335   \n",
       "\n",
       "                  amenities_O  amenities_I  amenities_R  amenities_D  \\\n",
       "price_bracket                                                          \n",
       "(-0.001, 42.0]           5307        12694         6546        14201   \n",
       "(42.0, 75.0]             6581        14837         8066        16070   \n",
       "(75.0, 120.0]            7419        14308         8334        15356   \n",
       "(120.0, 17746.0]         9045        16325         9642        16831   \n",
       "\n",
       "                  amenities_M  amenities_[  \n",
       "price_bracket                               \n",
       "(-0.001, 42.0]           5778        19258  \n",
       "(42.0, 75.0]             6412        20446  \n",
       "(75.0, 120.0]            6494        17916  \n",
       "(120.0, 17746.0]         8316        18914  "
      ]
     },
     "execution_count": 79,
     "metadata": {},
     "output_type": "execute_result"
    }
   ],
   "source": [
    "amenities_variations = amenities_count[amenities_count.std().nlargest(10).index]\n",
    "amenities_variations"
   ]
  },
  {
   "cell_type": "code",
   "execution_count": 93,
   "id": "189c7df6",
   "metadata": {},
   "outputs": [
    {
     "data": {
      "image/png": "[encoded data removed]",
      "text/plain": [
       "<Figure size 432x288 with 1 Axes>"
      ]
     },
     "metadata": {
      "needs_background": "light"
     },
     "output_type": "display_data"
    }
   ],
   "source": [
    "amenities_variations.T.plot(kind='bar')\n",
    "plt.xticks(rotation=30)\n",
    "plt.title('Frequency of different amenities for price brackets');"
   ]
  },
  {
   "cell_type": "markdown",
   "id": "372bfe79",
   "metadata": {},
   "source": [
    ">On the other hand Wifi, heating, and kitchen are more or less offered on all price brackets"
   ]
  },
  {
   "cell_type": "code",
   "execution_count": 81,
   "id": "d97e3805",
   "metadata": {
    "scrolled": true
   },
   "outputs": [
    {
     "name": "stdout",
     "output_type": "stream",
     "text": [
      "(-0.001, 42.0] --------------------\n",
      "amenities_[    19258\n",
      "amenities_]    19258\n",
      "amenities_\"    19246\n",
      "amenities_     19245\n",
      "amenities_e    19244\n",
      "Name: (-0.001, 42.0], dtype: int64\n",
      "(42.0, 75.0] --------------------\n",
      "amenities_[    20446\n",
      "amenities_]    20446\n",
      "amenities_\"    20432\n",
      "amenities_e    20428\n",
      "amenities_     20426\n",
      "Name: (42.0, 75.0], dtype: int64\n",
      "(75.0, 120.0] --------------------\n",
      "amenities_[    17916\n",
      "amenities_]    17916\n",
      "amenities_\"    17905\n",
      "amenities_e    17904\n",
      "amenities_n    17903\n",
      "Name: (75.0, 120.0], dtype: int64\n",
      "(120.0, 17746.0] --------------------\n",
      "amenities_[    18914\n",
      "amenities_]    18914\n",
      "amenities_\"    18905\n",
      "amenities_     18904\n",
      "amenities_e    18904\n",
      "Name: (120.0, 17746.0], dtype: int64\n"
     ]
    }
   ],
   "source": [
    "for i in range(4):\n",
    "    print(amenities_count.index[i], '-'*20)\n",
    "    print(amenities_count.iloc[i].nlargest())"
   ]
  },
  {
   "cell_type": "code",
   "execution_count": null,
   "id": "9d62cdf9",
   "metadata": {},
   "outputs": [],
   "source": []
  },
  {
   "cell_type": "code",
   "execution_count": null,
   "id": "25f44edf",
   "metadata": {},
   "outputs": [],
   "source": []
  },
  {
   "cell_type": "code",
   "execution_count": null,
   "id": "7f27a07c",
   "metadata": {},
   "outputs": [],
   "source": []
  }
 ],
 "metadata": {
  "kernelspec": {
   "display_name": "Python 3",
   "language": "python",
   "name": "python3"
  },
  "language_info": {
   "codemirror_mode": {
    "name": "ipython",
    "version": 3
   },
   "file_extension": ".py",
   "mimetype": "text/x-python",
   "name": "python",
   "nbconvert_exporter": "python",
   "pygments_lexer": "ipython3",
   "version": "3.7.11"
  }
 },
 "nbformat": 4,
 "nbformat_minor": 5
}
