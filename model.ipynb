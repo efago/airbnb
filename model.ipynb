{
 "cells": [
  {
   "cell_type": "code",
   "execution_count": 127,
   "id": "9f04fbae",
   "metadata": {},
   "outputs": [],
   "source": [
    "import numpy as np\n",
    "import pandas as pd\n",
    "import matplotlib.pyplot as plt\n",
    "import seaborn as sns\n",
    "\n",
    "import ast\n",
    "import re\n",
    "\n",
    "from sklearn.preprocessing import LabelEncoder\n",
    "from sklearn.model_selection import train_test_split, RandomizedSearchCV\n",
    "from sklearn.metrics import mean_squared_error, r2_score\n",
    "from sklearn.linear_model import LinearRegression\n",
    "from sklearn.ensemble import RandomForestRegressor\n",
    "import xgboost as xgb\n",
    "\n",
    "import warnings\n",
    "warnings.simplefilter(action='ignore', category=FutureWarning)\n",
    "\n",
    "%matplotlib inline\n",
    "pd.set_option('display.max_columns', 100)\n",
    "pd.set_option('display.max_rows', 100)"
   ]
  },
  {
   "cell_type": "code",
   "execution_count": 11,
   "id": "e528f47b",
   "metadata": {},
   "outputs": [],
   "source": [
    "reviews = pd.read_csv('data/reviews.csv.gz')\n",
    "listings = pd.read_csv('data/listings.csv.gz')"
   ]
  },
  {
   "cell_type": "code",
   "execution_count": 37,
   "id": "0f1f86f4",
   "metadata": {},
   "outputs": [],
   "source": [
    "listings.amenities = listings.amenities.map(lambda x: ast.literal_eval(x))\n",
    "listings['amenities_count'] = listings.amenities.apply(len)"
   ]
  },
  {
   "cell_type": "code",
   "execution_count": 38,
   "id": "4737fa75",
   "metadata": {},
   "outputs": [],
   "source": [
    "listings = listings.join(listings.amenities.str.join('|').str.get_dummies().add_prefix('amenity_'))"
   ]
  },
  {
   "cell_type": "code",
   "execution_count": 39,
   "id": "b77f6b3f",
   "metadata": {},
   "outputs": [],
   "source": [
    "def find_baths(bathrooms_text):\n",
    "    if not isinstance(bathrooms_text, str):\n",
    "        return 0\n",
    "    elif re.search(r'half', bathrooms_text, flags=re.IGNORECASE):\n",
    "        return 0.5\n",
    "    else:\n",
    "        return float(re.findall(\"(\\d+(?:\\.\\d+)?)\", bathrooms_text)[0])"
   ]
  },
  {
   "cell_type": "code",
   "execution_count": 40,
   "id": "ee32e936",
   "metadata": {},
   "outputs": [],
   "source": [
    "listings.bathrooms = listings.bathrooms_text.map(find_baths)"
   ]
  },
  {
   "cell_type": "code",
   "execution_count": 41,
   "id": "86b9c68b",
   "metadata": {
    "collapsed": true
   },
   "outputs": [
    {
     "ename": "AttributeError",
     "evalue": "Can only use .str accessor with string values!",
     "output_type": "error",
     "traceback": [
      "\u001b[0;31m---------------------------------------------------------------------------\u001b[0m",
      "\u001b[0;31mAttributeError\u001b[0m                            Traceback (most recent call last)",
      "\u001b[0;32m<ipython-input-41-fb0a07d0ae35>\u001b[0m in \u001b[0;36m<module>\u001b[0;34m\u001b[0m\n\u001b[0;32m----> 1\u001b[0;31m \u001b[0mlistings\u001b[0m\u001b[0;34m.\u001b[0m\u001b[0mprice\u001b[0m \u001b[0;34m=\u001b[0m \u001b[0mlistings\u001b[0m\u001b[0;34m.\u001b[0m\u001b[0mprice\u001b[0m\u001b[0;34m.\u001b[0m\u001b[0mstr\u001b[0m\u001b[0;34m.\u001b[0m\u001b[0mreplace\u001b[0m\u001b[0;34m(\u001b[0m\u001b[0;34mr'[,|$]'\u001b[0m\u001b[0;34m,\u001b[0m \u001b[0;34m''\u001b[0m\u001b[0;34m)\u001b[0m\u001b[0;34m.\u001b[0m\u001b[0mastype\u001b[0m\u001b[0;34m(\u001b[0m\u001b[0;34m'float'\u001b[0m\u001b[0;34m)\u001b[0m\u001b[0;34m\u001b[0m\u001b[0;34m\u001b[0m\u001b[0m\n\u001b[0m",
      "\u001b[0;32m/opt/anaconda3/lib/python3.7/site-packages/pandas/core/generic.py\u001b[0m in \u001b[0;36m__getattr__\u001b[0;34m(self, name)\u001b[0m\n\u001b[1;32m   5476\u001b[0m         ):\n\u001b[1;32m   5477\u001b[0m             \u001b[0;32mreturn\u001b[0m \u001b[0mself\u001b[0m\u001b[0;34m[\u001b[0m\u001b[0mname\u001b[0m\u001b[0;34m]\u001b[0m\u001b[0;34m\u001b[0m\u001b[0;34m\u001b[0m\u001b[0m\n\u001b[0;32m-> 5478\u001b[0;31m         \u001b[0;32mreturn\u001b[0m \u001b[0mobject\u001b[0m\u001b[0;34m.\u001b[0m\u001b[0m__getattribute__\u001b[0m\u001b[0;34m(\u001b[0m\u001b[0mself\u001b[0m\u001b[0;34m,\u001b[0m \u001b[0mname\u001b[0m\u001b[0;34m)\u001b[0m\u001b[0;34m\u001b[0m\u001b[0;34m\u001b[0m\u001b[0m\n\u001b[0m\u001b[1;32m   5479\u001b[0m \u001b[0;34m\u001b[0m\u001b[0m\n\u001b[1;32m   5480\u001b[0m     \u001b[0;32mdef\u001b[0m \u001b[0m__setattr__\u001b[0m\u001b[0;34m(\u001b[0m\u001b[0mself\u001b[0m\u001b[0;34m,\u001b[0m \u001b[0mname\u001b[0m\u001b[0;34m:\u001b[0m \u001b[0mstr\u001b[0m\u001b[0;34m,\u001b[0m \u001b[0mvalue\u001b[0m\u001b[0;34m)\u001b[0m \u001b[0;34m->\u001b[0m \u001b[0;32mNone\u001b[0m\u001b[0;34m:\u001b[0m\u001b[0;34m\u001b[0m\u001b[0;34m\u001b[0m\u001b[0m\n",
      "\u001b[0;32m/opt/anaconda3/lib/python3.7/site-packages/pandas/core/accessor.py\u001b[0m in \u001b[0;36m__get__\u001b[0;34m(self, obj, cls)\u001b[0m\n\u001b[1;32m    179\u001b[0m             \u001b[0;31m# we're accessing the attribute of the class, i.e., Dataset.geo\u001b[0m\u001b[0;34m\u001b[0m\u001b[0;34m\u001b[0m\u001b[0;34m\u001b[0m\u001b[0m\n\u001b[1;32m    180\u001b[0m             \u001b[0;32mreturn\u001b[0m \u001b[0mself\u001b[0m\u001b[0;34m.\u001b[0m\u001b[0m_accessor\u001b[0m\u001b[0;34m\u001b[0m\u001b[0;34m\u001b[0m\u001b[0m\n\u001b[0;32m--> 181\u001b[0;31m         \u001b[0maccessor_obj\u001b[0m \u001b[0;34m=\u001b[0m \u001b[0mself\u001b[0m\u001b[0;34m.\u001b[0m\u001b[0m_accessor\u001b[0m\u001b[0;34m(\u001b[0m\u001b[0mobj\u001b[0m\u001b[0;34m)\u001b[0m\u001b[0;34m\u001b[0m\u001b[0;34m\u001b[0m\u001b[0m\n\u001b[0m\u001b[1;32m    182\u001b[0m         \u001b[0;31m# Replace the property with the accessor object. Inspired by:\u001b[0m\u001b[0;34m\u001b[0m\u001b[0;34m\u001b[0m\u001b[0;34m\u001b[0m\u001b[0m\n\u001b[1;32m    183\u001b[0m         \u001b[0;31m# https://www.pydanny.com/cached-property.html\u001b[0m\u001b[0;34m\u001b[0m\u001b[0;34m\u001b[0m\u001b[0;34m\u001b[0m\u001b[0m\n",
      "\u001b[0;32m/opt/anaconda3/lib/python3.7/site-packages/pandas/core/strings/accessor.py\u001b[0m in \u001b[0;36m__init__\u001b[0;34m(self, data)\u001b[0m\n\u001b[1;32m    166\u001b[0m         \u001b[0;32mfrom\u001b[0m \u001b[0mpandas\u001b[0m\u001b[0;34m.\u001b[0m\u001b[0mcore\u001b[0m\u001b[0;34m.\u001b[0m\u001b[0marrays\u001b[0m\u001b[0;34m.\u001b[0m\u001b[0mstring_\u001b[0m \u001b[0;32mimport\u001b[0m \u001b[0mStringDtype\u001b[0m\u001b[0;34m\u001b[0m\u001b[0;34m\u001b[0m\u001b[0m\n\u001b[1;32m    167\u001b[0m \u001b[0;34m\u001b[0m\u001b[0m\n\u001b[0;32m--> 168\u001b[0;31m         \u001b[0mself\u001b[0m\u001b[0;34m.\u001b[0m\u001b[0m_inferred_dtype\u001b[0m \u001b[0;34m=\u001b[0m \u001b[0mself\u001b[0m\u001b[0;34m.\u001b[0m\u001b[0m_validate\u001b[0m\u001b[0;34m(\u001b[0m\u001b[0mdata\u001b[0m\u001b[0;34m)\u001b[0m\u001b[0;34m\u001b[0m\u001b[0;34m\u001b[0m\u001b[0m\n\u001b[0m\u001b[1;32m    169\u001b[0m         \u001b[0mself\u001b[0m\u001b[0;34m.\u001b[0m\u001b[0m_is_categorical\u001b[0m \u001b[0;34m=\u001b[0m \u001b[0mis_categorical_dtype\u001b[0m\u001b[0;34m(\u001b[0m\u001b[0mdata\u001b[0m\u001b[0;34m.\u001b[0m\u001b[0mdtype\u001b[0m\u001b[0;34m)\u001b[0m\u001b[0;34m\u001b[0m\u001b[0;34m\u001b[0m\u001b[0m\n\u001b[1;32m    170\u001b[0m         \u001b[0mself\u001b[0m\u001b[0;34m.\u001b[0m\u001b[0m_is_string\u001b[0m \u001b[0;34m=\u001b[0m \u001b[0misinstance\u001b[0m\u001b[0;34m(\u001b[0m\u001b[0mdata\u001b[0m\u001b[0;34m.\u001b[0m\u001b[0mdtype\u001b[0m\u001b[0;34m,\u001b[0m \u001b[0mStringDtype\u001b[0m\u001b[0;34m)\u001b[0m\u001b[0;34m\u001b[0m\u001b[0;34m\u001b[0m\u001b[0m\n",
      "\u001b[0;32m/opt/anaconda3/lib/python3.7/site-packages/pandas/core/strings/accessor.py\u001b[0m in \u001b[0;36m_validate\u001b[0;34m(data)\u001b[0m\n\u001b[1;32m    223\u001b[0m \u001b[0;34m\u001b[0m\u001b[0m\n\u001b[1;32m    224\u001b[0m         \u001b[0;32mif\u001b[0m \u001b[0minferred_dtype\u001b[0m \u001b[0;32mnot\u001b[0m \u001b[0;32min\u001b[0m \u001b[0mallowed_types\u001b[0m\u001b[0;34m:\u001b[0m\u001b[0;34m\u001b[0m\u001b[0;34m\u001b[0m\u001b[0m\n\u001b[0;32m--> 225\u001b[0;31m             \u001b[0;32mraise\u001b[0m \u001b[0mAttributeError\u001b[0m\u001b[0;34m(\u001b[0m\u001b[0;34m\"Can only use .str accessor with string values!\"\u001b[0m\u001b[0;34m)\u001b[0m\u001b[0;34m\u001b[0m\u001b[0;34m\u001b[0m\u001b[0m\n\u001b[0m\u001b[1;32m    226\u001b[0m         \u001b[0;32mreturn\u001b[0m \u001b[0minferred_dtype\u001b[0m\u001b[0;34m\u001b[0m\u001b[0;34m\u001b[0m\u001b[0m\n\u001b[1;32m    227\u001b[0m \u001b[0;34m\u001b[0m\u001b[0m\n",
      "\u001b[0;31mAttributeError\u001b[0m: Can only use .str accessor with string values!"
     ]
    }
   ],
   "source": [
    "listings.price = listings.price.str.replace(r'[,|$]', '').astype('float')"
   ]
  },
  {
   "cell_type": "code",
   "execution_count": 63,
   "id": "480ea4f6",
   "metadata": {},
   "outputs": [],
   "source": [
    "listings.host_is_superhost = LabelEncoder().fit_transform(listings.host_is_superhost)"
   ]
  },
  {
   "cell_type": "code",
   "execution_count": 68,
   "id": "1c3035bd",
   "metadata": {},
   "outputs": [],
   "source": [
    "columns = [\n",
    "    'host_is_superhost', 'host_listings_count', 'neighbourhood_cleansed',\n",
    "    'room_type', 'bathrooms', 'beds', 'price', 'availability_365', \n",
    "    'number_of_reviews', 'amenity_TV', 'amenity_Lock on bedroom door', \n",
    "    'amenity_Dishwasher', 'amenity_Dryer', 'amenity_Private entrance', \n",
    "    'amenity_Shampoo', 'amenity_Hair dryer', 'amenity_Oven', \n",
    "    'amenity_Iron', 'amenity_Stove'\n",
    "]"
   ]
  },
  {
   "cell_type": "code",
   "execution_count": 69,
   "id": "83201ee0",
   "metadata": {},
   "outputs": [],
   "source": [
    "listings_mini = listings[columns]"
   ]
  },
  {
   "cell_type": "code",
   "execution_count": 70,
   "id": "06e9527b",
   "metadata": {},
   "outputs": [],
   "source": [
    "listings_mini = listings_mini\\\n",
    "            .join(pd.get_dummies(listings_mini.neighbourhood_cleansed))\\\n",
    "            .join(pd.get_dummies(listings_mini.room_type))\n",
    "listings_mini = listings_mini.drop(['neighbourhood_cleansed', 'room_type',], axis=1)"
   ]
  },
  {
   "cell_type": "code",
   "execution_count": 72,
   "id": "21ec1dff",
   "metadata": {},
   "outputs": [
    {
     "data": {
      "text/plain": [
       "beds                   1219\n",
       "host_listings_count      46\n",
       "host_is_superhost         0\n",
       "bathrooms                 0\n",
       "price                     0\n",
       "dtype: int64"
      ]
     },
     "execution_count": 72,
     "metadata": {},
     "output_type": "execute_result"
    }
   ],
   "source": [
    "listings_mini.isnull().sum().nlargest(5)"
   ]
  },
  {
   "cell_type": "code",
   "execution_count": 73,
   "id": "a243d7ed",
   "metadata": {},
   "outputs": [],
   "source": [
    "listings_mini.fillna(1, inplace=True)"
   ]
  },
  {
   "cell_type": "code",
   "execution_count": 74,
   "id": "1c19ea12",
   "metadata": {},
   "outputs": [
    {
     "data": {
      "text/plain": [
       "host_is_superhost      0\n",
       "host_listings_count    0\n",
       "bathrooms              0\n",
       "beds                   0\n",
       "price                  0\n",
       "dtype: int64"
      ]
     },
     "execution_count": 74,
     "metadata": {},
     "output_type": "execute_result"
    }
   ],
   "source": [
    "listings_mini.isnull().sum().nlargest(5)"
   ]
  },
  {
   "cell_type": "code",
   "execution_count": 82,
   "id": "c606ffe6",
   "metadata": {},
   "outputs": [
    {
     "data": {
      "text/plain": [
       "0.9827004991245721"
      ]
     },
     "execution_count": 82,
     "metadata": {},
     "output_type": "execute_result"
    }
   ],
   "source": [
    "len(listings_mini[listings_mini.price < 500]) / len(listings_mini)"
   ]
  },
  {
   "cell_type": "code",
   "execution_count": 80,
   "id": "ef1e2caf",
   "metadata": {},
   "outputs": [],
   "source": [
    "listings_mini = listings_mini[listings_mini.price < 500]"
   ]
  },
  {
   "cell_type": "code",
   "execution_count": null,
   "id": "f11939e0",
   "metadata": {},
   "outputs": [],
   "source": []
  },
  {
   "cell_type": "code",
   "execution_count": 85,
   "id": "45e2a291",
   "metadata": {},
   "outputs": [],
   "source": [
    "y = listings_mini.price\n",
    "x = listings_mini.drop('price', axis=1)\n",
    "train_x, test_x, train_y, test_y = train_test_split(x, y, test_size = 0.2)"
   ]
  },
  {
   "cell_type": "code",
   "execution_count": null,
   "id": "5dbfb462",
   "metadata": {},
   "outputs": [],
   "source": []
  },
  {
   "cell_type": "code",
   "execution_count": 90,
   "id": "c4ef5c43",
   "metadata": {},
   "outputs": [
    {
     "data": {
      "text/plain": [
       "75.0674959318847"
      ]
     },
     "execution_count": 90,
     "metadata": {},
     "output_type": "execute_result"
    }
   ],
   "source": [
    "baseline = train_y.mean()\n",
    "baseline_error = np.sqrt(mean_squared_error(test_y, [baseline] * len(test_y)))\n",
    "baseline_error"
   ]
  },
  {
   "cell_type": "code",
   "execution_count": 92,
   "id": "fe2372f9",
   "metadata": {},
   "outputs": [
    {
     "name": "stdout",
     "output_type": "stream",
     "text": [
      "52.83847564890748\n",
      "48.72526638120101\n",
      "46.97663160786178\n"
     ]
    }
   ],
   "source": [
    "for model in [LinearRegression, RandomForestRegressor, xgb.XGBRegressor]:\n",
    "    predictions = model().fit(train_x, train_y).predict(test_x)\n",
    "    rmse = np.sqrt(mean_squared_error(test_y, predictions))\n",
    "    print(rmse)"
   ]
  },
  {
   "cell_type": "code",
   "execution_count": 78,
   "id": "3af4af0f",
   "metadata": {},
   "outputs": [
    {
     "data": {
      "text/plain": [
       "(75210, 54)"
      ]
     },
     "execution_count": 78,
     "metadata": {},
     "output_type": "execute_result"
    }
   ],
   "source": [
    "listings_mini[listings_mini.price < 500].shape"
   ]
  },
  {
   "cell_type": "code",
   "execution_count": null,
   "id": "020eb99b",
   "metadata": {},
   "outputs": [],
   "source": []
  },
  {
   "cell_type": "code",
   "execution_count": 102,
   "id": "4b8f52fc",
   "metadata": {},
   "outputs": [],
   "source": [
    "random_grid = { \n",
    "    'n_estimators': np.arange(10, 400, 10),\n",
    "    'learning_rate': [0.001, 0.01, 0.1, 0.2, 0.3],\n",
    "    'min_child_weight': np.arange(1, 5),\n",
    "    'max_depth': np.arange(2, 7),\n",
    "    'gamma' : [0.1, 0.2, 0.3, 0.4],\n",
    "    'subsample': np.linspace(0.2, 1, 5),\n",
    "    'colsample_bytree': np.linspace(0.2, 0.8, 5)\n",
    "}"
   ]
  },
  {
   "cell_type": "code",
   "execution_count": 109,
   "id": "2e75ada7",
   "metadata": {
    "collapsed": true
   },
   "outputs": [
    {
     "data": {
      "text/plain": [
       "RandomizedSearchCV(cv=5,\n",
       "                   estimator=XGBRegressor(base_score=None, booster='gbtree',\n",
       "                                          colsample_bylevel=None,\n",
       "                                          colsample_bynode=None,\n",
       "                                          colsample_bytree=None,\n",
       "                                          eval_metric='rmse', gamma=None,\n",
       "                                          gpu_id=None, importance_type='gain',\n",
       "                                          interaction_constraints=None,\n",
       "                                          learning_rate=None,\n",
       "                                          max_delta_step=None, max_depth=None,\n",
       "                                          min_child_weight=None, missing=nan,\n",
       "                                          monotone_constraints=...\n",
       "                   param_distributions={'colsample_bytree': array([0.2 , 0.35, 0.5 , 0.65, 0.8 ]),\n",
       "                                        'gamma': [0.1, 0.2, 0.3, 0.4],\n",
       "                                        'learning_rate': [0.001, 0.01, 0.1, 0.2,\n",
       "                                                          0.3],\n",
       "                                        'max_depth': array([2, 3, 4, 5, 6]),\n",
       "                                        'min_child_weight': array([1, 2, 3, 4]),\n",
       "                                        'n_estimators': array([ 10,  20,  30,  40,  50,  60,  70,  80,  90, 100, 110, 120, 130,\n",
       "       140, 150, 160, 170, 180, 190, 200, 210, 220, 230, 240, 250, 260,\n",
       "       270, 280, 290, 300, 310, 320, 330, 340, 350, 360, 370, 380, 390]),\n",
       "                                        'subsample': array([0.2, 0.4, 0.6, 0.8, 1. ])})"
      ]
     },
     "execution_count": 109,
     "metadata": {},
     "output_type": "execute_result"
    }
   ],
   "source": [
    "xgb_regressor = xgb.XGBRegressor(booster='gbtree', eval_metric='rmse')\n",
    "xgb_random = RandomizedSearchCV(xgb_regressor, random_grid, n_iter=20, verbose=2, cv=5, n_jobs=-1)\n",
    "xgb_random.fit(train_x, train_y)"
   ]
  },
  {
   "cell_type": "code",
   "execution_count": 131,
   "id": "cfe39c4d",
   "metadata": {},
   "outputs": [
    {
     "data": {
      "text/plain": [
       "46.70821718921492"
      ]
     },
     "execution_count": 131,
     "metadata": {},
     "output_type": "execute_result"
    }
   ],
   "source": [
    "xgb_model = xgb_random.best_estimator_.fit(train_x, train_y)\n",
    "predictions = xgb_model.predict(test_x)\n",
    "np.sqrt(mean_squared_error(test_y, predictions))"
   ]
  },
  {
   "cell_type": "code",
   "execution_count": 116,
   "id": "5de946c4",
   "metadata": {},
   "outputs": [
    {
     "data": {
      "image/png": "[encoded data removed]",
      "text/plain": [
       "<Figure size 432x288 with 1 Axes>"
      ]
     },
     "metadata": {
      "needs_background": "light"
     },
     "output_type": "display_data"
    }
   ],
   "source": [
    "xgb.plot_importance(xgb_model, max_num_features=10)\n",
    "plt.show()"
   ]
  },
  {
   "cell_type": "code",
   "execution_count": 126,
   "id": "ad2c831b",
   "metadata": {},
   "outputs": [
    {
     "data": {
      "text/plain": [
       "<AxesSubplot:xlabel='price'>"
      ]
     },
     "execution_count": 126,
     "metadata": {},
     "output_type": "execute_result"
    },
    {
     "data": {
      "image/png": "[encoded data removed]",
      "text/plain": [
       "<Figure size 432x288 with 1 Axes>"
      ]
     },
     "metadata": {
      "needs_background": "light"
     },
     "output_type": "display_data"
    }
   ],
   "source": [
    "sns.regplot(test_y, predictions)"
   ]
  },
  {
   "cell_type": "code",
   "execution_count": 129,
   "id": "d098a819",
   "metadata": {},
   "outputs": [
    {
     "data": {
      "text/plain": [
       "'0.613'"
      ]
     },
     "execution_count": 129,
     "metadata": {},
     "output_type": "execute_result"
    }
   ],
   "source": [
    "f'{r2_score(test_y, predictions):.3}'"
   ]
  },
  {
   "cell_type": "code",
   "execution_count": null,
   "id": "dbef899b",
   "metadata": {},
   "outputs": [],
   "source": []
  }
 ],
 "metadata": {
  "kernelspec": {
   "display_name": "Python 3",
   "language": "python",
   "name": "python3"
  },
  "language_info": {
   "codemirror_mode": {
    "name": "ipython",
    "version": 3
   },
   "file_extension": ".py",
   "mimetype": "text/x-python",
   "name": "python",
   "nbconvert_exporter": "python",
   "pygments_lexer": "ipython3",
   "version": "3.7.11"
  }
 },
 "nbformat": 4,
 "nbformat_minor": 5
}
